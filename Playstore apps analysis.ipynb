{
 "cells": [
  {
   "cell_type": "code",
   "execution_count": 1,
   "id": "517b1079",
   "metadata": {},
   "outputs": [],
   "source": [
    "import pandas as pd\n",
    "import seaborn as sns\n",
    "import matplotlib.pyplot as plt\n",
    "import numpy as np"
   ]
  },
  {
   "cell_type": "code",
   "execution_count": 2,
   "id": "45e5989e",
   "metadata": {},
   "outputs": [
    {
     "data": {
      "text/plain": [
       "'C:\\\\Users\\\\MAVERICK\\\\OneDrive\\\\Desktop\\\\New folder\\\\HiCouselor\\\\playstoreliveproj'"
      ]
     },
     "execution_count": 2,
     "metadata": {},
     "output_type": "execute_result"
    }
   ],
   "source": [
    "pwd"
   ]
  },
  {
   "cell_type": "code",
   "execution_count": 3,
   "id": "b315014f",
   "metadata": {},
   "outputs": [
    {
     "data": {
      "text/html": [
       "<div>\n",
       "<style scoped>\n",
       "    .dataframe tbody tr th:only-of-type {\n",
       "        vertical-align: middle;\n",
       "    }\n",
       "\n",
       "    .dataframe tbody tr th {\n",
       "        vertical-align: top;\n",
       "    }\n",
       "\n",
       "    .dataframe thead th {\n",
       "        text-align: right;\n",
       "    }\n",
       "</style>\n",
       "<table border=\"1\" class=\"dataframe\">\n",
       "  <thead>\n",
       "    <tr style=\"text-align: right;\">\n",
       "      <th></th>\n",
       "      <th>App</th>\n",
       "      <th>Category</th>\n",
       "      <th>Rating</th>\n",
       "      <th>Reviews</th>\n",
       "      <th>Size</th>\n",
       "      <th>Installs</th>\n",
       "      <th>Type</th>\n",
       "      <th>Price</th>\n",
       "      <th>Content Rating</th>\n",
       "      <th>Genres</th>\n",
       "      <th>Last Updated</th>\n",
       "      <th>Current Ver</th>\n",
       "      <th>Android Ver</th>\n",
       "    </tr>\n",
       "  </thead>\n",
       "  <tbody>\n",
       "    <tr>\n",
       "      <th>0</th>\n",
       "      <td>Photo Editor &amp; Candy Camera &amp; Grid &amp; ScrapBook</td>\n",
       "      <td>ART_AND_DESIGN</td>\n",
       "      <td>4.1</td>\n",
       "      <td>159.0</td>\n",
       "      <td>19M</td>\n",
       "      <td>10000.0</td>\n",
       "      <td>Free</td>\n",
       "      <td>0.0</td>\n",
       "      <td>Everyone</td>\n",
       "      <td>Art &amp; Design</td>\n",
       "      <td>07-01-2018</td>\n",
       "      <td>1.0.0</td>\n",
       "      <td>4.0.3 and up</td>\n",
       "    </tr>\n",
       "    <tr>\n",
       "      <th>1</th>\n",
       "      <td>Coloring book moana</td>\n",
       "      <td>ART_AND_DESIGN</td>\n",
       "      <td>3.9</td>\n",
       "      <td>967.0</td>\n",
       "      <td>14M</td>\n",
       "      <td>500000.0</td>\n",
       "      <td>Free</td>\n",
       "      <td>0.0</td>\n",
       "      <td>Everyone</td>\n",
       "      <td>Art &amp; Design;Pretend Play</td>\n",
       "      <td>15-01-2018</td>\n",
       "      <td>2.0.0</td>\n",
       "      <td>4.0.3 and up</td>\n",
       "    </tr>\n",
       "    <tr>\n",
       "      <th>2</th>\n",
       "      <td>U Launcher Lite – FREE Live Cool Themes, Hide ...</td>\n",
       "      <td>ART_AND_DESIGN</td>\n",
       "      <td>4.7</td>\n",
       "      <td>87510.0</td>\n",
       "      <td>8.7M</td>\n",
       "      <td>5000000.0</td>\n",
       "      <td>Free</td>\n",
       "      <td>0.0</td>\n",
       "      <td>Everyone</td>\n",
       "      <td>Art &amp; Design</td>\n",
       "      <td>01-08-2018</td>\n",
       "      <td>1.2.4</td>\n",
       "      <td>4.0.3 and up</td>\n",
       "    </tr>\n",
       "    <tr>\n",
       "      <th>3</th>\n",
       "      <td>Sketch - Draw &amp; Paint</td>\n",
       "      <td>ART_AND_DESIGN</td>\n",
       "      <td>4.5</td>\n",
       "      <td>215644.0</td>\n",
       "      <td>25M</td>\n",
       "      <td>50000000.0</td>\n",
       "      <td>Free</td>\n",
       "      <td>0.0</td>\n",
       "      <td>Teen</td>\n",
       "      <td>Art &amp; Design</td>\n",
       "      <td>08-06-2018</td>\n",
       "      <td>Varies with device</td>\n",
       "      <td>4.2 and up</td>\n",
       "    </tr>\n",
       "    <tr>\n",
       "      <th>4</th>\n",
       "      <td>Pixel Draw - Number Art Coloring Book</td>\n",
       "      <td>ART_AND_DESIGN</td>\n",
       "      <td>4.3</td>\n",
       "      <td>967.0</td>\n",
       "      <td>2.8M</td>\n",
       "      <td>100000.0</td>\n",
       "      <td>Free</td>\n",
       "      <td>0.0</td>\n",
       "      <td>Everyone</td>\n",
       "      <td>Art &amp; Design;Creativity</td>\n",
       "      <td>20-06-2018</td>\n",
       "      <td>1.1</td>\n",
       "      <td>4.4 and up</td>\n",
       "    </tr>\n",
       "    <tr>\n",
       "      <th>...</th>\n",
       "      <td>...</td>\n",
       "      <td>...</td>\n",
       "      <td>...</td>\n",
       "      <td>...</td>\n",
       "      <td>...</td>\n",
       "      <td>...</td>\n",
       "      <td>...</td>\n",
       "      <td>...</td>\n",
       "      <td>...</td>\n",
       "      <td>...</td>\n",
       "      <td>...</td>\n",
       "      <td>...</td>\n",
       "      <td>...</td>\n",
       "    </tr>\n",
       "    <tr>\n",
       "      <th>10836</th>\n",
       "      <td>Sya9a Maroc - FR</td>\n",
       "      <td>FAMILY</td>\n",
       "      <td>4.5</td>\n",
       "      <td>38.0</td>\n",
       "      <td>53M</td>\n",
       "      <td>5000.0</td>\n",
       "      <td>Free</td>\n",
       "      <td>0.0</td>\n",
       "      <td>Everyone</td>\n",
       "      <td>Education</td>\n",
       "      <td>25-07-2017</td>\n",
       "      <td>1.48</td>\n",
       "      <td>4.1 and up</td>\n",
       "    </tr>\n",
       "    <tr>\n",
       "      <th>10837</th>\n",
       "      <td>Fr. Mike Schmitz Audio Teachings</td>\n",
       "      <td>FAMILY</td>\n",
       "      <td>5.0</td>\n",
       "      <td>4.0</td>\n",
       "      <td>3.6M</td>\n",
       "      <td>100.0</td>\n",
       "      <td>Free</td>\n",
       "      <td>0.0</td>\n",
       "      <td>Everyone</td>\n",
       "      <td>Education</td>\n",
       "      <td>06-07-2018</td>\n",
       "      <td>1</td>\n",
       "      <td>4.1 and up</td>\n",
       "    </tr>\n",
       "    <tr>\n",
       "      <th>10838</th>\n",
       "      <td>Parkinson Exercices FR</td>\n",
       "      <td>MEDICAL</td>\n",
       "      <td>NaN</td>\n",
       "      <td>3.0</td>\n",
       "      <td>9.5M</td>\n",
       "      <td>1000.0</td>\n",
       "      <td>Free</td>\n",
       "      <td>0.0</td>\n",
       "      <td>Everyone</td>\n",
       "      <td>Medical</td>\n",
       "      <td>20-01-2017</td>\n",
       "      <td>1</td>\n",
       "      <td>2.2 and up</td>\n",
       "    </tr>\n",
       "    <tr>\n",
       "      <th>10839</th>\n",
       "      <td>The SCP Foundation DB fr nn5n</td>\n",
       "      <td>BOOKS_AND_REFERENCE</td>\n",
       "      <td>4.5</td>\n",
       "      <td>114.0</td>\n",
       "      <td>Varies with device</td>\n",
       "      <td>1000.0</td>\n",
       "      <td>Free</td>\n",
       "      <td>0.0</td>\n",
       "      <td>Mature 17+</td>\n",
       "      <td>Books &amp; Reference</td>\n",
       "      <td>19-01-2015</td>\n",
       "      <td>Varies with device</td>\n",
       "      <td>Varies with device</td>\n",
       "    </tr>\n",
       "    <tr>\n",
       "      <th>10840</th>\n",
       "      <td>iHoroscope - 2018 Daily Horoscope &amp; Astrology</td>\n",
       "      <td>LIFESTYLE</td>\n",
       "      <td>4.5</td>\n",
       "      <td>398307.0</td>\n",
       "      <td>19M</td>\n",
       "      <td>10000000.0</td>\n",
       "      <td>Free</td>\n",
       "      <td>0.0</td>\n",
       "      <td>Everyone</td>\n",
       "      <td>Lifestyle</td>\n",
       "      <td>25-07-2018</td>\n",
       "      <td>Varies with device</td>\n",
       "      <td>Varies with device</td>\n",
       "    </tr>\n",
       "  </tbody>\n",
       "</table>\n",
       "<p>10841 rows × 13 columns</p>\n",
       "</div>"
      ],
      "text/plain": [
       "                                                     App             Category  \\\n",
       "0         Photo Editor & Candy Camera & Grid & ScrapBook       ART_AND_DESIGN   \n",
       "1                                    Coloring book moana       ART_AND_DESIGN   \n",
       "2      U Launcher Lite – FREE Live Cool Themes, Hide ...       ART_AND_DESIGN   \n",
       "3                                  Sketch - Draw & Paint       ART_AND_DESIGN   \n",
       "4                  Pixel Draw - Number Art Coloring Book       ART_AND_DESIGN   \n",
       "...                                                  ...                  ...   \n",
       "10836                                   Sya9a Maroc - FR               FAMILY   \n",
       "10837                   Fr. Mike Schmitz Audio Teachings               FAMILY   \n",
       "10838                             Parkinson Exercices FR              MEDICAL   \n",
       "10839                      The SCP Foundation DB fr nn5n  BOOKS_AND_REFERENCE   \n",
       "10840      iHoroscope - 2018 Daily Horoscope & Astrology            LIFESTYLE   \n",
       "\n",
       "       Rating   Reviews                Size    Installs  Type  Price  \\\n",
       "0         4.1     159.0                 19M     10000.0  Free    0.0   \n",
       "1         3.9     967.0                 14M    500000.0  Free    0.0   \n",
       "2         4.7   87510.0                8.7M   5000000.0  Free    0.0   \n",
       "3         4.5  215644.0                 25M  50000000.0  Free    0.0   \n",
       "4         4.3     967.0                2.8M    100000.0  Free    0.0   \n",
       "...       ...       ...                 ...         ...   ...    ...   \n",
       "10836     4.5      38.0                 53M      5000.0  Free    0.0   \n",
       "10837     5.0       4.0                3.6M       100.0  Free    0.0   \n",
       "10838     NaN       3.0                9.5M      1000.0  Free    0.0   \n",
       "10839     4.5     114.0  Varies with device      1000.0  Free    0.0   \n",
       "10840     4.5  398307.0                 19M  10000000.0  Free    0.0   \n",
       "\n",
       "      Content Rating                     Genres Last Updated  \\\n",
       "0           Everyone               Art & Design   07-01-2018   \n",
       "1           Everyone  Art & Design;Pretend Play   15-01-2018   \n",
       "2           Everyone               Art & Design   01-08-2018   \n",
       "3               Teen               Art & Design   08-06-2018   \n",
       "4           Everyone    Art & Design;Creativity   20-06-2018   \n",
       "...              ...                        ...          ...   \n",
       "10836       Everyone                  Education   25-07-2017   \n",
       "10837       Everyone                  Education   06-07-2018   \n",
       "10838       Everyone                    Medical   20-01-2017   \n",
       "10839     Mature 17+          Books & Reference   19-01-2015   \n",
       "10840       Everyone                  Lifestyle   25-07-2018   \n",
       "\n",
       "              Current Ver         Android Ver  \n",
       "0                   1.0.0        4.0.3 and up  \n",
       "1                   2.0.0        4.0.3 and up  \n",
       "2                   1.2.4        4.0.3 and up  \n",
       "3      Varies with device          4.2 and up  \n",
       "4                     1.1          4.4 and up  \n",
       "...                   ...                 ...  \n",
       "10836                1.48          4.1 and up  \n",
       "10837                   1          4.1 and up  \n",
       "10838                   1          2.2 and up  \n",
       "10839  Varies with device  Varies with device  \n",
       "10840  Varies with device  Varies with device  \n",
       "\n",
       "[10841 rows x 13 columns]"
      ]
     },
     "execution_count": 3,
     "metadata": {},
     "output_type": "execute_result"
    }
   ],
   "source": [
    "data=pd.read_csv('playstore_apps.csv')\n",
    "data"
   ]
  },
  {
   "cell_type": "code",
   "execution_count": 4,
   "id": "f77aaa9a",
   "metadata": {},
   "outputs": [
    {
     "data": {
      "text/html": [
       "<div>\n",
       "<style scoped>\n",
       "    .dataframe tbody tr th:only-of-type {\n",
       "        vertical-align: middle;\n",
       "    }\n",
       "\n",
       "    .dataframe tbody tr th {\n",
       "        vertical-align: top;\n",
       "    }\n",
       "\n",
       "    .dataframe thead th {\n",
       "        text-align: right;\n",
       "    }\n",
       "</style>\n",
       "<table border=\"1\" class=\"dataframe\">\n",
       "  <thead>\n",
       "    <tr style=\"text-align: right;\">\n",
       "      <th></th>\n",
       "      <th>Rating</th>\n",
       "      <th>Reviews</th>\n",
       "      <th>Installs</th>\n",
       "      <th>Price</th>\n",
       "    </tr>\n",
       "  </thead>\n",
       "  <tbody>\n",
       "    <tr>\n",
       "      <th>count</th>\n",
       "      <td>9367.000000</td>\n",
       "      <td>1.084000e+04</td>\n",
       "      <td>1.084000e+04</td>\n",
       "      <td>10840.000000</td>\n",
       "    </tr>\n",
       "    <tr>\n",
       "      <th>mean</th>\n",
       "      <td>4.193338</td>\n",
       "      <td>4.441529e+05</td>\n",
       "      <td>1.546434e+07</td>\n",
       "      <td>1.027368</td>\n",
       "    </tr>\n",
       "    <tr>\n",
       "      <th>std</th>\n",
       "      <td>0.537431</td>\n",
       "      <td>2.927761e+06</td>\n",
       "      <td>8.502936e+07</td>\n",
       "      <td>15.949703</td>\n",
       "    </tr>\n",
       "    <tr>\n",
       "      <th>min</th>\n",
       "      <td>1.000000</td>\n",
       "      <td>0.000000e+00</td>\n",
       "      <td>0.000000e+00</td>\n",
       "      <td>0.000000</td>\n",
       "    </tr>\n",
       "    <tr>\n",
       "      <th>25%</th>\n",
       "      <td>4.000000</td>\n",
       "      <td>3.800000e+01</td>\n",
       "      <td>1.000000e+03</td>\n",
       "      <td>0.000000</td>\n",
       "    </tr>\n",
       "    <tr>\n",
       "      <th>50%</th>\n",
       "      <td>4.300000</td>\n",
       "      <td>2.094000e+03</td>\n",
       "      <td>1.000000e+05</td>\n",
       "      <td>0.000000</td>\n",
       "    </tr>\n",
       "    <tr>\n",
       "      <th>75%</th>\n",
       "      <td>4.500000</td>\n",
       "      <td>5.477550e+04</td>\n",
       "      <td>5.000000e+06</td>\n",
       "      <td>0.000000</td>\n",
       "    </tr>\n",
       "    <tr>\n",
       "      <th>max</th>\n",
       "      <td>19.000000</td>\n",
       "      <td>7.815831e+07</td>\n",
       "      <td>1.000000e+09</td>\n",
       "      <td>400.000000</td>\n",
       "    </tr>\n",
       "  </tbody>\n",
       "</table>\n",
       "</div>"
      ],
      "text/plain": [
       "            Rating       Reviews      Installs         Price\n",
       "count  9367.000000  1.084000e+04  1.084000e+04  10840.000000\n",
       "mean      4.193338  4.441529e+05  1.546434e+07      1.027368\n",
       "std       0.537431  2.927761e+06  8.502936e+07     15.949703\n",
       "min       1.000000  0.000000e+00  0.000000e+00      0.000000\n",
       "25%       4.000000  3.800000e+01  1.000000e+03      0.000000\n",
       "50%       4.300000  2.094000e+03  1.000000e+05      0.000000\n",
       "75%       4.500000  5.477550e+04  5.000000e+06      0.000000\n",
       "max      19.000000  7.815831e+07  1.000000e+09    400.000000"
      ]
     },
     "execution_count": 4,
     "metadata": {},
     "output_type": "execute_result"
    }
   ],
   "source": [
    "data.describe()"
   ]
  },
  {
   "cell_type": "code",
   "execution_count": 5,
   "id": "dfa64c69",
   "metadata": {},
   "outputs": [
    {
     "name": "stdout",
     "output_type": "stream",
     "text": [
      "<class 'pandas.core.frame.DataFrame'>\n",
      "RangeIndex: 10841 entries, 0 to 10840\n",
      "Data columns (total 13 columns):\n",
      " #   Column          Non-Null Count  Dtype  \n",
      "---  ------          --------------  -----  \n",
      " 0   App             10841 non-null  object \n",
      " 1   Category        10841 non-null  object \n",
      " 2   Rating          9367 non-null   float64\n",
      " 3   Reviews         10840 non-null  float64\n",
      " 4   Size            10841 non-null  object \n",
      " 5   Installs        10840 non-null  float64\n",
      " 6   Type            10840 non-null  object \n",
      " 7   Price           10840 non-null  float64\n",
      " 8   Content Rating  10840 non-null  object \n",
      " 9   Genres          10841 non-null  object \n",
      " 10  Last Updated    10840 non-null  object \n",
      " 11  Current Ver     10833 non-null  object \n",
      " 12  Android Ver     10838 non-null  object \n",
      "dtypes: float64(4), object(9)\n",
      "memory usage: 1.1+ MB\n"
     ]
    }
   ],
   "source": [
    "data.info()"
   ]
  },
  {
   "cell_type": "code",
   "execution_count": 6,
   "id": "1bc15636",
   "metadata": {},
   "outputs": [
    {
     "data": {
      "text/plain": [
       "App                  0\n",
       "Category             0\n",
       "Rating            1474\n",
       "Reviews              1\n",
       "Size                 0\n",
       "Installs             1\n",
       "Type                 1\n",
       "Price                1\n",
       "Content Rating       1\n",
       "Genres               0\n",
       "Last Updated         1\n",
       "Current Ver          8\n",
       "Android Ver          3\n",
       "dtype: int64"
      ]
     },
     "execution_count": 6,
     "metadata": {},
     "output_type": "execute_result"
    }
   ],
   "source": [
    "data.isnull().sum()"
   ]
  },
  {
   "cell_type": "markdown",
   "id": "5151af8f",
   "metadata": {},
   "source": [
    "# Removing Duplicates"
   ]
  },
  {
   "cell_type": "code",
   "execution_count": 7,
   "id": "96e81686",
   "metadata": {},
   "outputs": [],
   "source": [
    "data.drop_duplicates(inplace=True,keep=False)"
   ]
  },
  {
   "cell_type": "code",
   "execution_count": 8,
   "id": "b496dd90",
   "metadata": {},
   "outputs": [
    {
     "data": {
      "text/plain": [
       "(9948, 13)"
      ]
     },
     "execution_count": 8,
     "metadata": {},
     "output_type": "execute_result"
    }
   ],
   "source": [
    "data.shape"
   ]
  },
  {
   "cell_type": "code",
   "execution_count": 9,
   "id": "354893a3",
   "metadata": {},
   "outputs": [
    {
     "data": {
      "text/plain": [
       "ROBLOX                                           9\n",
       "8 Ball Pool                                      7\n",
       "Zombie Catchers                                  6\n",
       "Bubble Shooter                                   6\n",
       "Helix Jump                                       6\n",
       "                                                ..\n",
       "Vienna U-Bahn                                    1\n",
       "U-Haul                                           1\n",
       "Kicker U                                         1\n",
       "/u/app                                           1\n",
       "iHoroscope - 2018 Daily Horoscope & Astrology    1\n",
       "Name: App, Length: 9382, dtype: int64"
      ]
     },
     "execution_count": 9,
     "metadata": {},
     "output_type": "execute_result"
    }
   ],
   "source": [
    "data.App.value_counts()"
   ]
  },
  {
   "cell_type": "markdown",
   "id": "fdf80e1f",
   "metadata": {},
   "source": [
    "# Treating App"
   ]
  },
  {
   "cell_type": "markdown",
   "id": "a4bffc7c",
   "metadata": {},
   "source": [
    "### Removing apps having duplicate names only considering with highest reviews"
   ]
  },
  {
   "cell_type": "code",
   "execution_count": 10,
   "id": "8d17c24c",
   "metadata": {},
   "outputs": [],
   "source": [
    "# data[(data['App']=='8 Ball Pool') & (data['Reviews']<(data[(data['App']=='8 Ball Pool')]['Reviews'].max()))].index"
   ]
  },
  {
   "cell_type": "code",
   "execution_count": 11,
   "id": "e84696db",
   "metadata": {},
   "outputs": [],
   "source": [
    "# data.drop(index=[1675, 1703, 1755, 1844, 1970, 3953],inplace=True)"
   ]
  },
  {
   "cell_type": "code",
   "execution_count": null,
   "id": "20110d51",
   "metadata": {},
   "outputs": [],
   "source": []
  },
  {
   "cell_type": "code",
   "execution_count": 12,
   "id": "2e82577d",
   "metadata": {},
   "outputs": [],
   "source": [
    "# data[(data['App']=='ROBLOX') & (data['Reviews']<(data[(data['App']=='ROBLOX')]['Reviews'].max()))].index"
   ]
  },
  {
   "cell_type": "code",
   "execution_count": 13,
   "id": "853eff0a",
   "metadata": {},
   "outputs": [],
   "source": [
    "# data.drop(index=[1653, 1701, 1748, 1841, 1870, 2016, 2088, 4527],inplace=True)"
   ]
  },
  {
   "cell_type": "markdown",
   "id": "6e8a05b2",
   "metadata": {},
   "source": [
    "# Treating Category"
   ]
  },
  {
   "cell_type": "code",
   "execution_count": 14,
   "id": "0ce39ded",
   "metadata": {},
   "outputs": [
    {
     "data": {
      "text/plain": [
       "Int64Index([10472], dtype='int64')"
      ]
     },
     "execution_count": 14,
     "metadata": {},
     "output_type": "execute_result"
    }
   ],
   "source": [
    "data[data.Category=='1.9'].index # removed this row having unwanted variable"
   ]
  },
  {
   "cell_type": "code",
   "execution_count": 15,
   "id": "e157dbb7",
   "metadata": {},
   "outputs": [],
   "source": [
    "data.drop(index=10472,inplace=True)"
   ]
  },
  {
   "cell_type": "code",
   "execution_count": 16,
   "id": "9422c052",
   "metadata": {},
   "outputs": [
    {
     "data": {
      "text/plain": [
       "array(['ART_AND_DESIGN', 'AUTO_AND_VEHICLES', 'BEAUTY',\n",
       "       'BOOKS_AND_REFERENCE', 'BUSINESS', 'COMICS', 'COMMUNICATION',\n",
       "       'DATING', 'EDUCATION', 'ENTERTAINMENT', 'EVENTS', 'FINANCE',\n",
       "       'FOOD_AND_DRINK', 'HEALTH_AND_FITNESS', 'HOUSE_AND_HOME',\n",
       "       'LIBRARIES_AND_DEMO', 'LIFESTYLE', 'GAME', 'FAMILY', 'MEDICAL',\n",
       "       'SOCIAL', 'SHOPPING', 'PHOTOGRAPHY', 'SPORTS', 'TRAVEL_AND_LOCAL',\n",
       "       'TOOLS', 'PERSONALIZATION', 'PRODUCTIVITY', 'PARENTING', 'WEATHER',\n",
       "       'VIDEO_PLAYERS', 'NEWS_AND_MAGAZINES', 'MAPS_AND_NAVIGATION'],\n",
       "      dtype=object)"
      ]
     },
     "execution_count": 16,
     "metadata": {},
     "output_type": "execute_result"
    }
   ],
   "source": [
    "data.Category.unique()"
   ]
  },
  {
   "cell_type": "markdown",
   "id": "620cbc91",
   "metadata": {},
   "source": [
    "# Treating Ratings"
   ]
  },
  {
   "cell_type": "code",
   "execution_count": 17,
   "id": "2fc2aeab",
   "metadata": {},
   "outputs": [
    {
     "data": {
      "text/plain": [
       "array([4.1, 3.9, 4.7, 4.5, 4.3, 4.4, 3.8, 4.2, 4.6, 3.2, 4. , nan, 4.8,\n",
       "       4.9, 3.6, 3.7, 3.3, 3.4, 3.5, 3.1, 5. , 2.6, 3. , 2.5, 1. , 1.9,\n",
       "       2.9, 2.8, 2.3, 2.2, 1.7, 2. , 1.8, 2.7, 2.4, 1.6, 2.1, 1.4, 1.5,\n",
       "       1.2])"
      ]
     },
     "execution_count": 17,
     "metadata": {},
     "output_type": "execute_result"
    }
   ],
   "source": [
    "data.Rating.unique()"
   ]
  },
  {
   "cell_type": "code",
   "execution_count": 18,
   "id": "c709c965",
   "metadata": {},
   "outputs": [],
   "source": [
    "# data['Rating']=data['Rating'].replace(to_replace=np.nan,value=0.0)"
   ]
  },
  {
   "cell_type": "code",
   "execution_count": 19,
   "id": "8d61a415",
   "metadata": {},
   "outputs": [
    {
     "data": {
      "text/plain": [
       "App                  0\n",
       "Category             0\n",
       "Rating            1457\n",
       "Reviews              0\n",
       "Size                 0\n",
       "Installs             0\n",
       "Type                 1\n",
       "Price                0\n",
       "Content Rating       0\n",
       "Genres               0\n",
       "Last Updated         0\n",
       "Current Ver          8\n",
       "Android Ver          2\n",
       "dtype: int64"
      ]
     },
     "execution_count": 19,
     "metadata": {},
     "output_type": "execute_result"
    }
   ],
   "source": [
    "data.isnull().sum()"
   ]
  },
  {
   "cell_type": "markdown",
   "id": "56d3401c",
   "metadata": {},
   "source": [
    "# Treating Reviews"
   ]
  },
  {
   "cell_type": "raw",
   "id": "47164658",
   "metadata": {},
   "source": [
    "plt.figure(figsize=(10,8))\n",
    "sns.displot('Reviews',data=data,kde=True)"
   ]
  },
  {
   "cell_type": "code",
   "execution_count": 20,
   "id": "1e0a3a56",
   "metadata": {},
   "outputs": [
    {
     "data": {
      "text/plain": [
       "<AxesSubplot:>"
      ]
     },
     "execution_count": 20,
     "metadata": {},
     "output_type": "execute_result"
    },
    {
     "data": {
      "image/png": "[encoded data removed]",
      "text/plain": [
       "<Figure size 432x288 with 1 Axes>"
      ]
     },
     "metadata": {
      "needs_background": "light"
     },
     "output_type": "display_data"
    }
   ],
   "source": [
    "data.Reviews.hist()"
   ]
  },
  {
   "cell_type": "markdown",
   "id": "ee2a59d6",
   "metadata": {},
   "source": [
    "# Treating Size"
   ]
  },
  {
   "cell_type": "code",
   "execution_count": 21,
   "id": "c90c264e",
   "metadata": {},
   "outputs": [
    {
     "data": {
      "text/plain": [
       "460"
      ]
     },
     "execution_count": 21,
     "metadata": {},
     "output_type": "execute_result"
    }
   ],
   "source": [
    "len(data.Size.unique())"
   ]
  },
  {
   "cell_type": "code",
   "execution_count": 22,
   "id": "816a9b1c",
   "metadata": {},
   "outputs": [
    {
     "data": {
      "text/plain": [
       "1391"
      ]
     },
     "execution_count": 22,
     "metadata": {},
     "output_type": "execute_result"
    }
   ],
   "source": [
    "len(data[data['Size']=='Varies with device'])"
   ]
  },
  {
   "cell_type": "code",
   "execution_count": 23,
   "id": "1cc945e0",
   "metadata": {},
   "outputs": [],
   "source": [
    "def size_to_mb(x):\n",
    "    for i in data['Size']:\n",
    "        num=x\n",
    "        if num.endswith('k'):\n",
    "            return float(num[:-1])/1024\n",
    "        elif num.endswith('M'):\n",
    "            return float(num[:-1])\n",
    "        elif num.startswith('Varies with device'):\n",
    "            return \"Varies with device\"\n",
    "        else:\n",
    "            return x"
   ]
  },
  {
   "cell_type": "code",
   "execution_count": 24,
   "id": "8ecf443f",
   "metadata": {},
   "outputs": [],
   "source": [
    "data['Size']=data['Size'].apply(lambda x:size_to_mb(x))"
   ]
  },
  {
   "cell_type": "markdown",
   "id": "e00e6ce4",
   "metadata": {},
   "source": [
    "# Treating Install"
   ]
  },
  {
   "cell_type": "code",
   "execution_count": 25,
   "id": "91ea19ef",
   "metadata": {},
   "outputs": [
    {
     "data": {
      "text/plain": [
       "0           10000.0\n",
       "1          500000.0\n",
       "2         5000000.0\n",
       "3        50000000.0\n",
       "4          100000.0\n",
       "            ...    \n",
       "10836        5000.0\n",
       "10837         100.0\n",
       "10838        1000.0\n",
       "10839        1000.0\n",
       "10840    10000000.0\n",
       "Name: Installs, Length: 9947, dtype: float64"
      ]
     },
     "execution_count": 25,
     "metadata": {},
     "output_type": "execute_result"
    }
   ],
   "source": [
    "data['Installs']"
   ]
  },
  {
   "cell_type": "markdown",
   "id": "0eff30e3",
   "metadata": {},
   "source": [
    "# Treating Type"
   ]
  },
  {
   "cell_type": "code",
   "execution_count": 26,
   "id": "754c8528",
   "metadata": {},
   "outputs": [
    {
     "data": {
      "text/plain": [
       "array(['Free', 'Paid', nan], dtype=object)"
      ]
     },
     "execution_count": 26,
     "metadata": {},
     "output_type": "execute_result"
    }
   ],
   "source": [
    "data['Type'].unique()"
   ]
  },
  {
   "cell_type": "code",
   "execution_count": 27,
   "id": "71fa7b08",
   "metadata": {},
   "outputs": [],
   "source": [
    "# data.dropna(subset=['Type'],inplace=True,axis=0,how='any')"
   ]
  },
  {
   "cell_type": "markdown",
   "id": "d3d9cdc1",
   "metadata": {},
   "source": [
    "# Treating Price"
   ]
  },
  {
   "cell_type": "code",
   "execution_count": 28,
   "id": "fac3c4fe",
   "metadata": {},
   "outputs": [
    {
     "data": {
      "text/plain": [
       "array([  0.  ,   3.99,   6.99,   1.49,   2.99,   7.99,   5.99,   4.99,\n",
       "         3.49,   1.99,   9.99,   7.49,   0.99,   1.  ,   2.49,  10.99,\n",
       "         1.5 ,  14.99,  15.99,  74.99,  39.99,   3.95,  29.99,   4.49,\n",
       "         1.7 ,   8.99,   2.  ,   3.88,  25.99, 399.99,  17.99, 400.  ,\n",
       "         3.02,   1.76,   4.84,   4.77,   1.61,   2.5 ,  19.99,   1.59,\n",
       "         6.49,   1.29,   5.  ,  13.99, 299.99, 379.99,  37.99,  18.99,\n",
       "       389.99,  19.9 ,   8.49,   1.75,  11.99,  14.  ,   4.85,  46.99,\n",
       "         5.49, 109.99, 154.99,   3.08,   2.59,   4.8 ,   1.96,  19.4 ,\n",
       "         3.9 ,   4.59,  15.46,  10.  ,   3.04,  12.99,   4.29,   2.6 ,\n",
       "         3.28,   4.6 ,  28.99,   2.95,   2.9 ,   1.97,  24.99, 200.  ,\n",
       "        89.99,   2.56,  30.99,   3.61, 394.99,   1.26,  16.99,   1.2 ,\n",
       "         1.04])"
      ]
     },
     "execution_count": 28,
     "metadata": {},
     "output_type": "execute_result"
    }
   ],
   "source": [
    "data.Price.unique()"
   ]
  },
  {
   "cell_type": "markdown",
   "id": "1649e419",
   "metadata": {},
   "source": [
    "# Treating Content Rating"
   ]
  },
  {
   "cell_type": "code",
   "execution_count": 29,
   "id": "08ffb60d",
   "metadata": {},
   "outputs": [
    {
     "data": {
      "text/plain": [
       "array(['Everyone', 'Teen', 'Everyone 10+', 'Mature 17+',\n",
       "       'Adults only 18+', 'Unrated'], dtype=object)"
      ]
     },
     "execution_count": 29,
     "metadata": {},
     "output_type": "execute_result"
    }
   ],
   "source": [
    "data['Content Rating'].unique()"
   ]
  },
  {
   "cell_type": "code",
   "execution_count": 30,
   "id": "c63416ee",
   "metadata": {},
   "outputs": [
    {
     "data": {
      "text/plain": [
       "<AxesSubplot:xlabel='Content Rating', ylabel='Reviews'>"
      ]
     },
     "execution_count": 30,
     "metadata": {},
     "output_type": "execute_result"
    },
    {
     "data": {
      "image/png": "[encoded data removed]",
      "text/plain": [
       "<Figure size 720x576 with 1 Axes>"
      ]
     },
     "metadata": {
      "needs_background": "light"
     },
     "output_type": "display_data"
    }
   ],
   "source": [
    "plt.figure(figsize=(10,8))\n",
    "sns.barplot(x='Content Rating',y='Reviews',data=data)"
   ]
  },
  {
   "cell_type": "markdown",
   "id": "21d7c874",
   "metadata": {},
   "source": [
    "# Treating Genres"
   ]
  },
  {
   "cell_type": "code",
   "execution_count": 31,
   "id": "ce885a4c",
   "metadata": {},
   "outputs": [
    {
     "data": {
      "text/plain": [
       "array(['Art & Design', 'Art & Design;Pretend Play',\n",
       "       'Art & Design;Creativity', 'Art & Design;Action & Adventure',\n",
       "       'Auto & Vehicles', 'Beauty', 'Books & Reference', 'Business',\n",
       "       'Comics', 'Comics;Creativity', 'Communication', 'Dating',\n",
       "       'Education;Education', 'Education', 'Education;Creativity',\n",
       "       'Education;Music & Video', 'Education;Action & Adventure',\n",
       "       'Education;Pretend Play', 'Education;Brain Games', 'Entertainment',\n",
       "       'Entertainment;Music & Video', 'Entertainment;Brain Games',\n",
       "       'Entertainment;Creativity', 'Events', 'Finance', 'Food & Drink',\n",
       "       'Health & Fitness', 'House & Home', 'Libraries & Demo',\n",
       "       'Lifestyle', 'Lifestyle;Pretend Play',\n",
       "       'Adventure;Action & Adventure', 'Arcade', 'Casual', 'Card',\n",
       "       'Casual;Pretend Play', 'Action', 'Strategy', 'Puzzle', 'Sports',\n",
       "       'Music', 'Word', 'Racing', 'Casual;Creativity',\n",
       "       'Casual;Action & Adventure', 'Adventure', 'Board', 'Trivia',\n",
       "       'Simulation', 'Role Playing', 'Simulation;Education',\n",
       "       'Action;Action & Adventure', 'Casual;Brain Games',\n",
       "       'Simulation;Action & Adventure', 'Educational;Creativity',\n",
       "       'Puzzle;Brain Games', 'Educational;Education', 'Card;Brain Games',\n",
       "       'Educational;Brain Games', 'Educational;Pretend Play',\n",
       "       'Entertainment;Education', 'Casual;Education',\n",
       "       'Music;Music & Video', 'Racing;Action & Adventure',\n",
       "       'Arcade;Pretend Play', 'Simulation;Pretend Play',\n",
       "       'Puzzle;Creativity', 'Sports;Action & Adventure',\n",
       "       'Educational;Action & Adventure', 'Arcade;Action & Adventure',\n",
       "       'Entertainment;Action & Adventure', 'Puzzle;Action & Adventure',\n",
       "       'Strategy;Action & Adventure', 'Music & Audio;Music & Video',\n",
       "       'Health & Fitness;Education', 'Adventure;Education',\n",
       "       'Board;Brain Games', 'Board;Action & Adventure',\n",
       "       'Board;Pretend Play', 'Entertainment;Pretend Play',\n",
       "       'Video Players & Editors;Creativity', 'Card;Action & Adventure',\n",
       "       'Medical', 'Social', 'Shopping', 'Photography', 'Travel & Local',\n",
       "       'Travel & Local;Action & Adventure', 'Tools', 'Tools;Education',\n",
       "       'Personalization', 'Productivity', 'Parenting',\n",
       "       'Parenting;Music & Video', 'Parenting;Education',\n",
       "       'Parenting;Brain Games', 'Weather', 'Video Players & Editors',\n",
       "       'Video Players & Editors;Music & Video', 'News & Magazines',\n",
       "       'Maps & Navigation', 'Health & Fitness;Action & Adventure',\n",
       "       'Role Playing;Pretend Play', 'Educational', 'Casino',\n",
       "       'Adventure;Brain Games', 'Role Playing;Action & Adventure',\n",
       "       'Trivia;Education', 'Lifestyle;Education',\n",
       "       'Books & Reference;Creativity', 'Books & Reference;Education',\n",
       "       'Puzzle;Education', 'Role Playing;Education',\n",
       "       'Role Playing;Brain Games', 'Strategy;Education',\n",
       "       'Racing;Pretend Play', 'Communication;Creativity',\n",
       "       'Strategy;Creativity'], dtype=object)"
      ]
     },
     "execution_count": 31,
     "metadata": {},
     "output_type": "execute_result"
    }
   ],
   "source": [
    "data['Genres'].unique()"
   ]
  },
  {
   "cell_type": "code",
   "execution_count": 32,
   "id": "e0a5ae9f",
   "metadata": {},
   "outputs": [
    {
     "data": {
      "text/plain": [
       "Tools                          842\n",
       "Entertainment                  563\n",
       "Education                      510\n",
       "Business                       398\n",
       "Productivity                   392\n",
       "                              ... \n",
       "Health & Fitness;Education       1\n",
       "Music & Audio;Music & Video      1\n",
       "Arcade;Pretend Play              1\n",
       "Entertainment;Education          1\n",
       "Strategy;Creativity              1\n",
       "Name: Genres, Length: 118, dtype: int64"
      ]
     },
     "execution_count": 32,
     "metadata": {},
     "output_type": "execute_result"
    }
   ],
   "source": [
    "data['Genres'].value_counts()"
   ]
  },
  {
   "cell_type": "code",
   "execution_count": 33,
   "id": "2ffafa81",
   "metadata": {},
   "outputs": [
    {
     "data": {
      "text/plain": [
       "3233                                    Moto File Manager\n",
       "3234                                               Google\n",
       "3235                                     Google Translate\n",
       "3236                                         Moto Display\n",
       "3237                                       Motorola Alert\n",
       "                               ...                       \n",
       "10795                            Reindeer VPN - Proxy VPN\n",
       "10796    Inf VPN - Global Proxy & Unlimited Free WIFI VPN\n",
       "10800                                           FR Roster\n",
       "10807                                           My FR App\n",
       "10817                                HTC Sense Input - FR\n",
       "Name: App, Length: 842, dtype: object"
      ]
     },
     "execution_count": 33,
     "metadata": {},
     "output_type": "execute_result"
    }
   ],
   "source": [
    "data[data['Genres']=='Tools']['App']"
   ]
  },
  {
   "cell_type": "markdown",
   "id": "3de796da",
   "metadata": {},
   "source": [
    "# Treating Last Updated"
   ]
  },
  {
   "cell_type": "code",
   "execution_count": 34,
   "id": "44afb6b2",
   "metadata": {},
   "outputs": [
    {
     "data": {
      "text/plain": [
       "03-08-2018    275\n",
       "31-07-2018    246\n",
       "02-08-2018    240\n",
       "01-08-2018    235\n",
       "30-07-2018    182\n",
       "             ... \n",
       "06-09-2017      1\n",
       "26-08-2017      1\n",
       "22-02-2013      1\n",
       "16-10-2015      1\n",
       "23-03-2014      1\n",
       "Name: Last Updated, Length: 1373, dtype: int64"
      ]
     },
     "execution_count": 34,
     "metadata": {},
     "output_type": "execute_result"
    }
   ],
   "source": [
    "data['Last Updated'].value_counts()"
   ]
  },
  {
   "cell_type": "code",
   "execution_count": 35,
   "id": "9852deaf",
   "metadata": {},
   "outputs": [],
   "source": [
    "import datetime"
   ]
  },
  {
   "cell_type": "code",
   "execution_count": 36,
   "id": "2a90617e",
   "metadata": {},
   "outputs": [
    {
     "data": {
      "text/plain": [
       "0       2018-07-01\n",
       "1       2018-01-15\n",
       "2       2018-01-08\n",
       "3       2018-08-06\n",
       "4       2018-06-20\n",
       "           ...    \n",
       "10836   2017-07-25\n",
       "10837   2018-06-07\n",
       "10838   2017-01-20\n",
       "10839   2015-01-19\n",
       "10840   2018-07-25\n",
       "Name: Last Updated, Length: 9947, dtype: datetime64[ns]"
      ]
     },
     "execution_count": 36,
     "metadata": {},
     "output_type": "execute_result"
    }
   ],
   "source": [
    "data[\"Last Updated\"] = pd.to_datetime(data[\"Last Updated\"])\n",
    "data[\"Last Updated\"]"
   ]
  },
  {
   "cell_type": "markdown",
   "id": "56baf23b",
   "metadata": {},
   "source": [
    "# Treating \"Current Ver\""
   ]
  },
  {
   "cell_type": "code",
   "execution_count": 37,
   "id": "69e5226c",
   "metadata": {},
   "outputs": [],
   "source": [
    "# data.dropna(subset=['Current Ver'],inplace=True,axis=0,how='any')"
   ]
  },
  {
   "cell_type": "code",
   "execution_count": 38,
   "id": "901b027f",
   "metadata": {},
   "outputs": [],
   "source": [
    "# data['Current Ver clean']=data['Current Ver'].apply(lambda x :x[0:3])"
   ]
  },
  {
   "cell_type": "code",
   "execution_count": 39,
   "id": "f270c3ae",
   "metadata": {},
   "outputs": [],
   "source": [
    "# Replaced the nulls as \"Nothing\"\n",
    "\n",
    "data['Current Ver']=data['Current Ver'].replace(to_replace=np.nan,value='Nothing')"
   ]
  },
  {
   "cell_type": "code",
   "execution_count": 40,
   "id": "5cde2b77",
   "metadata": {},
   "outputs": [
    {
     "data": {
      "text/plain": [
       "Varies with device    1179\n",
       "1                      828\n",
       "1.1                    268\n",
       "1.2                    183\n",
       "2                      162\n",
       "                      ... \n",
       "6.5.1725                 1\n",
       "2.42.1.9                 1\n",
       "3.000.1                  1\n",
       "3.53.2                   1\n",
       "2.0.148.0                1\n",
       "Name: Current Ver, Length: 2700, dtype: int64"
      ]
     },
     "execution_count": 40,
     "metadata": {},
     "output_type": "execute_result"
    }
   ],
   "source": [
    "data['Current Ver'].value_counts()"
   ]
  },
  {
   "cell_type": "code",
   "execution_count": 41,
   "id": "3d9b3cd6",
   "metadata": {},
   "outputs": [],
   "source": [
    "def Current_ver(x):\n",
    "    for i in data['Current Ver']:\n",
    "        num=x\n",
    "        if num.startswith('0') or num.startswith('version 0.9') or num.startswith('H7SubTV0.'):\n",
    "            return \"0.0 and up\"\n",
    "        elif num.startswith('1') or num.startswith('DPSTATUS1.0') or num.startswith('pb1.0') or num.startswith('SolarCT 1.9') or num.startswith('FH CODE 1.') or num.startswith('Release 1.') or num.startswith('Rocksteady 1.') or num.startswith('erie1.') or num.startswith('v1') or num.startswith('acremotecontrol18') or num.startswith('PN.1') or num.startswith('Pro 1.') or num.startswith('Version 1') or num.startswith('V1') or num.startswith('R1') :\n",
    "            return \"1.0 and up\"\n",
    "        elif num.startswith('2') or num.startswith('v2') or num.startswith('a.2') or num.startswith('MyMetro_HTML_2.') or num.startswith('Android 2') or num.startswith('V2') or num.startswith('r2'):\n",
    "            return \"2.0 and up\"\n",
    "        elif num.startswith('3') or num.startswith('Cannonau 3') or num.startswith('v3') or num.startswith('Cow V3') or num.startswith('Android 3') or num.startswith('di-v3') or num.startswith('FreeTimeApp-aosp_v3'):\n",
    "            return \"3.0 and up\"\n",
    "        elif num.startswith('4') or num.startswith('T4') or num.startswith('v4') or num.startswith('V4') :\n",
    "            return \"4.0 and up\"\n",
    "        elif num.startswith('5')or num.startswith('p5') or num.startswith('v5') or num.startswith('Y4W-GATE_CS-5.0.'):\n",
    "            return \"5.0 and up\"\n",
    "        elif num.startswith('6') or num.startswith('cli-6.') or num.startswith('Version:6')  or num.startswith('R6') or num.startswith('Glueboardv.6') or num.startswith('v6') :\n",
    "            return \"6.0 and up\"\n",
    "        elif num.startswith('7') or num.startswith('The CJ Rubric 7.') or num.startswith('v7') or num.startswith('CL Strength 7.') or num.startswith('acremotecontrol-v7') or num.startswith('BL ONLINE PERSONAL TRAINING 7.'):\n",
    "            return \"7.0 and up\"\n",
    "        elif num.startswith('8') or num.startswith('v8'):\n",
    "            return \"8.0 and up\"\n",
    "        elif num.startswith('9') or num.startswith('Paid-9') or num.startswith('Z (Special Edition R9)'):\n",
    "            return \"9.0 and up\"\n",
    "        elif num.startswith('Translator 10.9'):\n",
    "            return \"10.0 and up\"\n",
    "        elif num.startswith('Varies with device'):\n",
    "            return \"Varies with device\"\n",
    "        else:\n",
    "            return num"
   ]
  },
  {
   "cell_type": "code",
   "execution_count": 42,
   "id": "16a9799d",
   "metadata": {},
   "outputs": [],
   "source": [
    "data['Current Ver']=data['Current Ver'].apply(lambda x:Current_ver(x))"
   ]
  },
  {
   "cell_type": "code",
   "execution_count": 43,
   "id": "8d55b6a8",
   "metadata": {},
   "outputs": [
    {
     "data": {
      "text/plain": [
       "array(['1.0 and up', '2.0 and up', 'Varies with device', '6.0 and up',\n",
       "       '3.0 and up', 'Nothing', '5.0 and up', '4.0 and up', '0.0 and up',\n",
       "       '8.0 and up', '9.0 and up', '7.0 and up', 'Public.Heal', 'Initial',\n",
       "       'Natalia Studio Development', 'airConditionerMaintenance_13112015',\n",
       "       'closed', 'newversion', 'Final', 'Arrow-202',\n",
       "       'no_update_signal.2_9_1_arm-x86_64-alpha', 'opciÃ³n de cerrar',\n",
       "       'fcbd82b2-dd5b-41d2-af62-432271c42921',\n",
       "       'CL Pro for Craigslist - Canada 150', 'Bowser4Craigslist',\n",
       "       'App copyright', 'Copyright', 'Gratis', 'KM', 'iu4',\n",
       "       'INDIRIMBO V.2014.002', '10.0 and up', 'DH-Security Camera',\n",
       "       'HTTPs', 'Human Dx', 'Build 54', 'Build 12',\n",
       "       'Fennec-52.9.0esr/TorBrowser-7.5-1/Orfox-1.5.4-RC-1', 'BlueOrange',\n",
       "       'MONEY', 'F2i'], dtype=object)"
      ]
     },
     "execution_count": 43,
     "metadata": {},
     "output_type": "execute_result"
    }
   ],
   "source": [
    "data['Current Ver'].unique()"
   ]
  },
  {
   "cell_type": "code",
   "execution_count": 44,
   "id": "d5d82921",
   "metadata": {},
   "outputs": [
    {
     "data": {
      "text/html": [
       "<div>\n",
       "<style scoped>\n",
       "    .dataframe tbody tr th:only-of-type {\n",
       "        vertical-align: middle;\n",
       "    }\n",
       "\n",
       "    .dataframe tbody tr th {\n",
       "        vertical-align: top;\n",
       "    }\n",
       "\n",
       "    .dataframe thead th {\n",
       "        text-align: right;\n",
       "    }\n",
       "</style>\n",
       "<table border=\"1\" class=\"dataframe\">\n",
       "  <thead>\n",
       "    <tr style=\"text-align: right;\">\n",
       "      <th></th>\n",
       "      <th>App</th>\n",
       "      <th>Category</th>\n",
       "      <th>Rating</th>\n",
       "      <th>Reviews</th>\n",
       "      <th>Size</th>\n",
       "      <th>Installs</th>\n",
       "      <th>Type</th>\n",
       "      <th>Price</th>\n",
       "      <th>Content Rating</th>\n",
       "      <th>Genres</th>\n",
       "      <th>Last Updated</th>\n",
       "      <th>Current Ver</th>\n",
       "      <th>Android Ver</th>\n",
       "    </tr>\n",
       "  </thead>\n",
       "  <tbody>\n",
       "    <tr>\n",
       "      <th>0</th>\n",
       "      <td>Photo Editor &amp; Candy Camera &amp; Grid &amp; ScrapBook</td>\n",
       "      <td>ART_AND_DESIGN</td>\n",
       "      <td>4.1</td>\n",
       "      <td>159.0</td>\n",
       "      <td>19.0</td>\n",
       "      <td>10000.0</td>\n",
       "      <td>Free</td>\n",
       "      <td>0.0</td>\n",
       "      <td>Everyone</td>\n",
       "      <td>Art &amp; Design</td>\n",
       "      <td>2018-07-01</td>\n",
       "      <td>1.0 and up</td>\n",
       "      <td>4.0.3 and up</td>\n",
       "    </tr>\n",
       "    <tr>\n",
       "      <th>1</th>\n",
       "      <td>Coloring book moana</td>\n",
       "      <td>ART_AND_DESIGN</td>\n",
       "      <td>3.9</td>\n",
       "      <td>967.0</td>\n",
       "      <td>14.0</td>\n",
       "      <td>500000.0</td>\n",
       "      <td>Free</td>\n",
       "      <td>0.0</td>\n",
       "      <td>Everyone</td>\n",
       "      <td>Art &amp; Design;Pretend Play</td>\n",
       "      <td>2018-01-15</td>\n",
       "      <td>2.0 and up</td>\n",
       "      <td>4.0.3 and up</td>\n",
       "    </tr>\n",
       "    <tr>\n",
       "      <th>2</th>\n",
       "      <td>U Launcher Lite – FREE Live Cool Themes, Hide ...</td>\n",
       "      <td>ART_AND_DESIGN</td>\n",
       "      <td>4.7</td>\n",
       "      <td>87510.0</td>\n",
       "      <td>8.7</td>\n",
       "      <td>5000000.0</td>\n",
       "      <td>Free</td>\n",
       "      <td>0.0</td>\n",
       "      <td>Everyone</td>\n",
       "      <td>Art &amp; Design</td>\n",
       "      <td>2018-01-08</td>\n",
       "      <td>1.0 and up</td>\n",
       "      <td>4.0.3 and up</td>\n",
       "    </tr>\n",
       "    <tr>\n",
       "      <th>3</th>\n",
       "      <td>Sketch - Draw &amp; Paint</td>\n",
       "      <td>ART_AND_DESIGN</td>\n",
       "      <td>4.5</td>\n",
       "      <td>215644.0</td>\n",
       "      <td>25.0</td>\n",
       "      <td>50000000.0</td>\n",
       "      <td>Free</td>\n",
       "      <td>0.0</td>\n",
       "      <td>Teen</td>\n",
       "      <td>Art &amp; Design</td>\n",
       "      <td>2018-08-06</td>\n",
       "      <td>Varies with device</td>\n",
       "      <td>4.2 and up</td>\n",
       "    </tr>\n",
       "    <tr>\n",
       "      <th>4</th>\n",
       "      <td>Pixel Draw - Number Art Coloring Book</td>\n",
       "      <td>ART_AND_DESIGN</td>\n",
       "      <td>4.3</td>\n",
       "      <td>967.0</td>\n",
       "      <td>2.8</td>\n",
       "      <td>100000.0</td>\n",
       "      <td>Free</td>\n",
       "      <td>0.0</td>\n",
       "      <td>Everyone</td>\n",
       "      <td>Art &amp; Design;Creativity</td>\n",
       "      <td>2018-06-20</td>\n",
       "      <td>1.0 and up</td>\n",
       "      <td>4.4 and up</td>\n",
       "    </tr>\n",
       "    <tr>\n",
       "      <th>...</th>\n",
       "      <td>...</td>\n",
       "      <td>...</td>\n",
       "      <td>...</td>\n",
       "      <td>...</td>\n",
       "      <td>...</td>\n",
       "      <td>...</td>\n",
       "      <td>...</td>\n",
       "      <td>...</td>\n",
       "      <td>...</td>\n",
       "      <td>...</td>\n",
       "      <td>...</td>\n",
       "      <td>...</td>\n",
       "      <td>...</td>\n",
       "    </tr>\n",
       "    <tr>\n",
       "      <th>10836</th>\n",
       "      <td>Sya9a Maroc - FR</td>\n",
       "      <td>FAMILY</td>\n",
       "      <td>4.5</td>\n",
       "      <td>38.0</td>\n",
       "      <td>53.0</td>\n",
       "      <td>5000.0</td>\n",
       "      <td>Free</td>\n",
       "      <td>0.0</td>\n",
       "      <td>Everyone</td>\n",
       "      <td>Education</td>\n",
       "      <td>2017-07-25</td>\n",
       "      <td>1.0 and up</td>\n",
       "      <td>4.1 and up</td>\n",
       "    </tr>\n",
       "    <tr>\n",
       "      <th>10837</th>\n",
       "      <td>Fr. Mike Schmitz Audio Teachings</td>\n",
       "      <td>FAMILY</td>\n",
       "      <td>5.0</td>\n",
       "      <td>4.0</td>\n",
       "      <td>3.6</td>\n",
       "      <td>100.0</td>\n",
       "      <td>Free</td>\n",
       "      <td>0.0</td>\n",
       "      <td>Everyone</td>\n",
       "      <td>Education</td>\n",
       "      <td>2018-06-07</td>\n",
       "      <td>1.0 and up</td>\n",
       "      <td>4.1 and up</td>\n",
       "    </tr>\n",
       "    <tr>\n",
       "      <th>10838</th>\n",
       "      <td>Parkinson Exercices FR</td>\n",
       "      <td>MEDICAL</td>\n",
       "      <td>NaN</td>\n",
       "      <td>3.0</td>\n",
       "      <td>9.5</td>\n",
       "      <td>1000.0</td>\n",
       "      <td>Free</td>\n",
       "      <td>0.0</td>\n",
       "      <td>Everyone</td>\n",
       "      <td>Medical</td>\n",
       "      <td>2017-01-20</td>\n",
       "      <td>1.0 and up</td>\n",
       "      <td>2.2 and up</td>\n",
       "    </tr>\n",
       "    <tr>\n",
       "      <th>10839</th>\n",
       "      <td>The SCP Foundation DB fr nn5n</td>\n",
       "      <td>BOOKS_AND_REFERENCE</td>\n",
       "      <td>4.5</td>\n",
       "      <td>114.0</td>\n",
       "      <td>Varies with device</td>\n",
       "      <td>1000.0</td>\n",
       "      <td>Free</td>\n",
       "      <td>0.0</td>\n",
       "      <td>Mature 17+</td>\n",
       "      <td>Books &amp; Reference</td>\n",
       "      <td>2015-01-19</td>\n",
       "      <td>Varies with device</td>\n",
       "      <td>Varies with device</td>\n",
       "    </tr>\n",
       "    <tr>\n",
       "      <th>10840</th>\n",
       "      <td>iHoroscope - 2018 Daily Horoscope &amp; Astrology</td>\n",
       "      <td>LIFESTYLE</td>\n",
       "      <td>4.5</td>\n",
       "      <td>398307.0</td>\n",
       "      <td>19.0</td>\n",
       "      <td>10000000.0</td>\n",
       "      <td>Free</td>\n",
       "      <td>0.0</td>\n",
       "      <td>Everyone</td>\n",
       "      <td>Lifestyle</td>\n",
       "      <td>2018-07-25</td>\n",
       "      <td>Varies with device</td>\n",
       "      <td>Varies with device</td>\n",
       "    </tr>\n",
       "  </tbody>\n",
       "</table>\n",
       "<p>9918 rows × 13 columns</p>\n",
       "</div>"
      ],
      "text/plain": [
       "                                                     App             Category  \\\n",
       "0         Photo Editor & Candy Camera & Grid & ScrapBook       ART_AND_DESIGN   \n",
       "1                                    Coloring book moana       ART_AND_DESIGN   \n",
       "2      U Launcher Lite – FREE Live Cool Themes, Hide ...       ART_AND_DESIGN   \n",
       "3                                  Sketch - Draw & Paint       ART_AND_DESIGN   \n",
       "4                  Pixel Draw - Number Art Coloring Book       ART_AND_DESIGN   \n",
       "...                                                  ...                  ...   \n",
       "10836                                   Sya9a Maroc - FR               FAMILY   \n",
       "10837                   Fr. Mike Schmitz Audio Teachings               FAMILY   \n",
       "10838                             Parkinson Exercices FR              MEDICAL   \n",
       "10839                      The SCP Foundation DB fr nn5n  BOOKS_AND_REFERENCE   \n",
       "10840      iHoroscope - 2018 Daily Horoscope & Astrology            LIFESTYLE   \n",
       "\n",
       "       Rating   Reviews                Size    Installs  Type  Price  \\\n",
       "0         4.1     159.0                19.0     10000.0  Free    0.0   \n",
       "1         3.9     967.0                14.0    500000.0  Free    0.0   \n",
       "2         4.7   87510.0                 8.7   5000000.0  Free    0.0   \n",
       "3         4.5  215644.0                25.0  50000000.0  Free    0.0   \n",
       "4         4.3     967.0                 2.8    100000.0  Free    0.0   \n",
       "...       ...       ...                 ...         ...   ...    ...   \n",
       "10836     4.5      38.0                53.0      5000.0  Free    0.0   \n",
       "10837     5.0       4.0                 3.6       100.0  Free    0.0   \n",
       "10838     NaN       3.0                 9.5      1000.0  Free    0.0   \n",
       "10839     4.5     114.0  Varies with device      1000.0  Free    0.0   \n",
       "10840     4.5  398307.0                19.0  10000000.0  Free    0.0   \n",
       "\n",
       "      Content Rating                     Genres Last Updated  \\\n",
       "0           Everyone               Art & Design   2018-07-01   \n",
       "1           Everyone  Art & Design;Pretend Play   2018-01-15   \n",
       "2           Everyone               Art & Design   2018-01-08   \n",
       "3               Teen               Art & Design   2018-08-06   \n",
       "4           Everyone    Art & Design;Creativity   2018-06-20   \n",
       "...              ...                        ...          ...   \n",
       "10836       Everyone                  Education   2017-07-25   \n",
       "10837       Everyone                  Education   2018-06-07   \n",
       "10838       Everyone                    Medical   2017-01-20   \n",
       "10839     Mature 17+          Books & Reference   2015-01-19   \n",
       "10840       Everyone                  Lifestyle   2018-07-25   \n",
       "\n",
       "              Current Ver         Android Ver  \n",
       "0              1.0 and up        4.0.3 and up  \n",
       "1              2.0 and up        4.0.3 and up  \n",
       "2              1.0 and up        4.0.3 and up  \n",
       "3      Varies with device          4.2 and up  \n",
       "4              1.0 and up          4.4 and up  \n",
       "...                   ...                 ...  \n",
       "10836          1.0 and up          4.1 and up  \n",
       "10837          1.0 and up          4.1 and up  \n",
       "10838          1.0 and up          2.2 and up  \n",
       "10839  Varies with device  Varies with device  \n",
       "10840  Varies with device  Varies with device  \n",
       "\n",
       "[9918 rows x 13 columns]"
      ]
     },
     "execution_count": 44,
     "metadata": {},
     "output_type": "execute_result"
    }
   ],
   "source": [
    "data= data[data['Current Ver'].str.contains('Public.Heal|Initial|Natalia Studio Development|airConditionerMaintenance_13112015|closed|newversion|Final|Arrow-202|no_update_signal.2_9_1_arm-x86_64-alpha|opciÃ³n de cerrar|fcbd82b2-dd5b-41d2-af62-432271c42921|CL Pro for Craigslist - Canada 150|Bowser4Craigslist|App copyright|Copyright|Gratis|KM|iu4|INDIRIMBO V.2014.002|DH-Security Camera|HTTPs|Human Dx|Build 54|Build 12|Fennec-52.9.0esr/TorBrowser-7.5-1/Orfox-1.5.4-RC-1|BlueOrange|MONEY|F2i') == False]\n",
    "data"
   ]
  },
  {
   "cell_type": "code",
   "execution_count": 45,
   "id": "65fb9df9",
   "metadata": {},
   "outputs": [
    {
     "data": {
      "text/plain": [
       "1.0 and up            4575\n",
       "2.0 and up            1514\n",
       "Varies with device    1179\n",
       "3.0 and up             904\n",
       "4.0 and up             586\n",
       "5.0 and up             377\n",
       "6.0 and up             260\n",
       "0.0 and up             171\n",
       "7.0 and up             159\n",
       "8.0 and up             118\n",
       "9.0 and up              66\n",
       "Nothing                  8\n",
       "10.0 and up              1\n",
       "Name: Current Ver, dtype: int64"
      ]
     },
     "execution_count": 45,
     "metadata": {},
     "output_type": "execute_result"
    }
   ],
   "source": [
    "data['Current Ver'].value_counts()"
   ]
  },
  {
   "cell_type": "code",
   "execution_count": 46,
   "id": "bc53a20f",
   "metadata": {},
   "outputs": [
    {
     "name": "stderr",
     "output_type": "stream",
     "text": [
      "C:\\Users\\MAVERICK\\AppData\\Local\\Temp/ipykernel_15492/136932499.py:1: SettingWithCopyWarning: \n",
      "A value is trying to be set on a copy of a slice from a DataFrame.\n",
      "Try using .loc[row_indexer,col_indexer] = value instead\n",
      "\n",
      "See the caveats in the documentation: https://pandas.pydata.org/pandas-docs/stable/user_guide/indexing.html#returning-a-view-versus-a-copy\n",
      "  data['Current Ver']=data['Current Ver'].replace(to_replace='Nothing',value=np.nan)\n"
     ]
    }
   ],
   "source": [
    "data['Current Ver']=data['Current Ver'].replace(to_replace='Nothing',value=np.nan)"
   ]
  },
  {
   "cell_type": "markdown",
   "id": "1a8e12f8",
   "metadata": {},
   "source": [
    "# Treating 'Android Ver'"
   ]
  },
  {
   "cell_type": "code",
   "execution_count": 47,
   "id": "001926aa",
   "metadata": {},
   "outputs": [
    {
     "name": "stderr",
     "output_type": "stream",
     "text": [
      "C:\\Users\\MAVERICK\\AppData\\Local\\Temp/ipykernel_15492/3251225890.py:3: SettingWithCopyWarning: \n",
      "A value is trying to be set on a copy of a slice from a DataFrame.\n",
      "Try using .loc[row_indexer,col_indexer] = value instead\n",
      "\n",
      "See the caveats in the documentation: https://pandas.pydata.org/pandas-docs/stable/user_guide/indexing.html#returning-a-view-versus-a-copy\n",
      "  data['Android Ver']=data['Android Ver'].replace(to_replace=np.nan,value='Nothing')\n"
     ]
    }
   ],
   "source": [
    "# Replaced the nulls as \"Nothing\"\n",
    "\n",
    "data['Android Ver']=data['Android Ver'].replace(to_replace=np.nan,value='Nothing')"
   ]
  },
  {
   "cell_type": "code",
   "execution_count": 48,
   "id": "f716ed84",
   "metadata": {},
   "outputs": [
    {
     "data": {
      "text/plain": [
       "4.1 and up            2305\n",
       "4.0.3 and up          1399\n",
       "4.0 and up            1296\n",
       "Varies with device    1107\n",
       "4.4 and up             828\n",
       "2.3 and up             635\n",
       "5.0 and up             499\n",
       "4.2 and up             380\n",
       "2.3.3 and up           276\n",
       "2.2 and up             234\n",
       "3.0 and up             233\n",
       "4.3 and up             228\n",
       "2.1 and up             132\n",
       "1.6 and up             114\n",
       "6.0 and up              55\n",
       "7.0 and up              42\n",
       "3.2 and up              36\n",
       "2.0 and up              30\n",
       "5.1 and up              21\n",
       "1.5 and up              20\n",
       "4.4W and up             10\n",
       "3.1 and up              10\n",
       "2.0.1 and up             7\n",
       "8.0 and up               6\n",
       "7.1 and up               3\n",
       "4.0.3 - 7.1.1            2\n",
       "5.0 - 8.0                2\n",
       "Nothing                  2\n",
       "1.0 and up               2\n",
       "7.0 - 7.1.1              1\n",
       "4.1 - 7.1.1              1\n",
       "5.0 - 6.0                1\n",
       "5.0 - 7.1.1              1\n",
       "Name: Android Ver, dtype: int64"
      ]
     },
     "execution_count": 48,
     "metadata": {},
     "output_type": "execute_result"
    }
   ],
   "source": [
    "data['Android Ver'].value_counts()"
   ]
  },
  {
   "cell_type": "code",
   "execution_count": 49,
   "id": "d0debe1d",
   "metadata": {},
   "outputs": [],
   "source": [
    "def android_ver(x):\n",
    "    for i in data['Android Ver']:\n",
    "        num=x\n",
    "        if num.startswith('1'):\n",
    "            return \"1.0 and up\"\n",
    "        elif num.startswith('2'):\n",
    "            return \"2.0 and up\"\n",
    "        elif num.startswith('3'):\n",
    "            return \"3.0 and up\"\n",
    "        elif num.startswith('4'):\n",
    "            return \"4.0 and up\"\n",
    "        elif num.startswith('5'):\n",
    "            return \"5.0 and up\"\n",
    "        elif num.startswith('6'):\n",
    "            return \"6.0 and up\"\n",
    "        elif num.startswith('7'):\n",
    "            return \"7.0 and up\"\n",
    "        elif num.startswith('8'):\n",
    "            return \"8.0 and up\"\n",
    "        elif num.startswith('9'):\n",
    "            return \"9.0 and up\"\n",
    "        elif num.startswith('Varies with device'):\n",
    "            return \"Varies with device\"\n",
    "        else:\n",
    "            return num"
   ]
  },
  {
   "cell_type": "code",
   "execution_count": 50,
   "id": "d1acbf99",
   "metadata": {},
   "outputs": [
    {
     "name": "stderr",
     "output_type": "stream",
     "text": [
      "C:\\Users\\MAVERICK\\AppData\\Local\\Temp/ipykernel_15492/552615055.py:1: SettingWithCopyWarning: \n",
      "A value is trying to be set on a copy of a slice from a DataFrame.\n",
      "Try using .loc[row_indexer,col_indexer] = value instead\n",
      "\n",
      "See the caveats in the documentation: https://pandas.pydata.org/pandas-docs/stable/user_guide/indexing.html#returning-a-view-versus-a-copy\n",
      "  data['Android Ver']=data['Android Ver'].apply(lambda x:android_ver(x))\n"
     ]
    }
   ],
   "source": [
    "data['Android Ver']=data['Android Ver'].apply(lambda x:android_ver(x))"
   ]
  },
  {
   "cell_type": "code",
   "execution_count": 51,
   "id": "a188f4f0",
   "metadata": {},
   "outputs": [
    {
     "data": {
      "text/plain": [
       "4.0 and up            6449\n",
       "2.0 and up            1314\n",
       "Varies with device    1107\n",
       "5.0 and up             524\n",
       "3.0 and up             279\n",
       "1.0 and up             136\n",
       "6.0 and up              55\n",
       "7.0 and up              46\n",
       "8.0 and up               6\n",
       "Nothing                  2\n",
       "Name: Android Ver, dtype: int64"
      ]
     },
     "execution_count": 51,
     "metadata": {},
     "output_type": "execute_result"
    }
   ],
   "source": [
    "data['Android Ver'].value_counts()"
   ]
  },
  {
   "cell_type": "code",
   "execution_count": 52,
   "id": "c90c3808",
   "metadata": {},
   "outputs": [
    {
     "name": "stderr",
     "output_type": "stream",
     "text": [
      "C:\\Users\\MAVERICK\\AppData\\Local\\Temp/ipykernel_15492/3895796390.py:1: SettingWithCopyWarning: \n",
      "A value is trying to be set on a copy of a slice from a DataFrame.\n",
      "Try using .loc[row_indexer,col_indexer] = value instead\n",
      "\n",
      "See the caveats in the documentation: https://pandas.pydata.org/pandas-docs/stable/user_guide/indexing.html#returning-a-view-versus-a-copy\n",
      "  data['Android Ver']=data['Android Ver'].replace(to_replace='Nothing',value=np.nan)\n"
     ]
    }
   ],
   "source": [
    "data['Android Ver']=data['Android Ver'].replace(to_replace='Nothing',value=np.nan)"
   ]
  },
  {
   "cell_type": "markdown",
   "id": "db7da796",
   "metadata": {},
   "source": [
    "# Clean Data"
   ]
  },
  {
   "cell_type": "code",
   "execution_count": 53,
   "id": "53b96829",
   "metadata": {},
   "outputs": [
    {
     "data": {
      "text/html": [
       "<div>\n",
       "<style scoped>\n",
       "    .dataframe tbody tr th:only-of-type {\n",
       "        vertical-align: middle;\n",
       "    }\n",
       "\n",
       "    .dataframe tbody tr th {\n",
       "        vertical-align: top;\n",
       "    }\n",
       "\n",
       "    .dataframe thead th {\n",
       "        text-align: right;\n",
       "    }\n",
       "</style>\n",
       "<table border=\"1\" class=\"dataframe\">\n",
       "  <thead>\n",
       "    <tr style=\"text-align: right;\">\n",
       "      <th></th>\n",
       "      <th>App</th>\n",
       "      <th>Category</th>\n",
       "      <th>Rating</th>\n",
       "      <th>Reviews</th>\n",
       "      <th>Size</th>\n",
       "      <th>Installs</th>\n",
       "      <th>Type</th>\n",
       "      <th>Price</th>\n",
       "      <th>Content Rating</th>\n",
       "      <th>Genres</th>\n",
       "      <th>Last Updated</th>\n",
       "      <th>Current Ver</th>\n",
       "      <th>Android Ver</th>\n",
       "    </tr>\n",
       "  </thead>\n",
       "  <tbody>\n",
       "    <tr>\n",
       "      <th>0</th>\n",
       "      <td>Photo Editor &amp; Candy Camera &amp; Grid &amp; ScrapBook</td>\n",
       "      <td>ART_AND_DESIGN</td>\n",
       "      <td>4.1</td>\n",
       "      <td>159.0</td>\n",
       "      <td>19.0</td>\n",
       "      <td>10000.0</td>\n",
       "      <td>Free</td>\n",
       "      <td>0.0</td>\n",
       "      <td>Everyone</td>\n",
       "      <td>Art &amp; Design</td>\n",
       "      <td>2018-07-01</td>\n",
       "      <td>1.0 and up</td>\n",
       "      <td>4.0 and up</td>\n",
       "    </tr>\n",
       "    <tr>\n",
       "      <th>1</th>\n",
       "      <td>Coloring book moana</td>\n",
       "      <td>ART_AND_DESIGN</td>\n",
       "      <td>3.9</td>\n",
       "      <td>967.0</td>\n",
       "      <td>14.0</td>\n",
       "      <td>500000.0</td>\n",
       "      <td>Free</td>\n",
       "      <td>0.0</td>\n",
       "      <td>Everyone</td>\n",
       "      <td>Art &amp; Design;Pretend Play</td>\n",
       "      <td>2018-01-15</td>\n",
       "      <td>2.0 and up</td>\n",
       "      <td>4.0 and up</td>\n",
       "    </tr>\n",
       "    <tr>\n",
       "      <th>2</th>\n",
       "      <td>U Launcher Lite – FREE Live Cool Themes, Hide ...</td>\n",
       "      <td>ART_AND_DESIGN</td>\n",
       "      <td>4.7</td>\n",
       "      <td>87510.0</td>\n",
       "      <td>8.7</td>\n",
       "      <td>5000000.0</td>\n",
       "      <td>Free</td>\n",
       "      <td>0.0</td>\n",
       "      <td>Everyone</td>\n",
       "      <td>Art &amp; Design</td>\n",
       "      <td>2018-01-08</td>\n",
       "      <td>1.0 and up</td>\n",
       "      <td>4.0 and up</td>\n",
       "    </tr>\n",
       "    <tr>\n",
       "      <th>3</th>\n",
       "      <td>Sketch - Draw &amp; Paint</td>\n",
       "      <td>ART_AND_DESIGN</td>\n",
       "      <td>4.5</td>\n",
       "      <td>215644.0</td>\n",
       "      <td>25.0</td>\n",
       "      <td>50000000.0</td>\n",
       "      <td>Free</td>\n",
       "      <td>0.0</td>\n",
       "      <td>Teen</td>\n",
       "      <td>Art &amp; Design</td>\n",
       "      <td>2018-08-06</td>\n",
       "      <td>Varies with device</td>\n",
       "      <td>4.0 and up</td>\n",
       "    </tr>\n",
       "    <tr>\n",
       "      <th>4</th>\n",
       "      <td>Pixel Draw - Number Art Coloring Book</td>\n",
       "      <td>ART_AND_DESIGN</td>\n",
       "      <td>4.3</td>\n",
       "      <td>967.0</td>\n",
       "      <td>2.8</td>\n",
       "      <td>100000.0</td>\n",
       "      <td>Free</td>\n",
       "      <td>0.0</td>\n",
       "      <td>Everyone</td>\n",
       "      <td>Art &amp; Design;Creativity</td>\n",
       "      <td>2018-06-20</td>\n",
       "      <td>1.0 and up</td>\n",
       "      <td>4.0 and up</td>\n",
       "    </tr>\n",
       "    <tr>\n",
       "      <th>...</th>\n",
       "      <td>...</td>\n",
       "      <td>...</td>\n",
       "      <td>...</td>\n",
       "      <td>...</td>\n",
       "      <td>...</td>\n",
       "      <td>...</td>\n",
       "      <td>...</td>\n",
       "      <td>...</td>\n",
       "      <td>...</td>\n",
       "      <td>...</td>\n",
       "      <td>...</td>\n",
       "      <td>...</td>\n",
       "      <td>...</td>\n",
       "    </tr>\n",
       "    <tr>\n",
       "      <th>10836</th>\n",
       "      <td>Sya9a Maroc - FR</td>\n",
       "      <td>FAMILY</td>\n",
       "      <td>4.5</td>\n",
       "      <td>38.0</td>\n",
       "      <td>53.0</td>\n",
       "      <td>5000.0</td>\n",
       "      <td>Free</td>\n",
       "      <td>0.0</td>\n",
       "      <td>Everyone</td>\n",
       "      <td>Education</td>\n",
       "      <td>2017-07-25</td>\n",
       "      <td>1.0 and up</td>\n",
       "      <td>4.0 and up</td>\n",
       "    </tr>\n",
       "    <tr>\n",
       "      <th>10837</th>\n",
       "      <td>Fr. Mike Schmitz Audio Teachings</td>\n",
       "      <td>FAMILY</td>\n",
       "      <td>5.0</td>\n",
       "      <td>4.0</td>\n",
       "      <td>3.6</td>\n",
       "      <td>100.0</td>\n",
       "      <td>Free</td>\n",
       "      <td>0.0</td>\n",
       "      <td>Everyone</td>\n",
       "      <td>Education</td>\n",
       "      <td>2018-06-07</td>\n",
       "      <td>1.0 and up</td>\n",
       "      <td>4.0 and up</td>\n",
       "    </tr>\n",
       "    <tr>\n",
       "      <th>10838</th>\n",
       "      <td>Parkinson Exercices FR</td>\n",
       "      <td>MEDICAL</td>\n",
       "      <td>NaN</td>\n",
       "      <td>3.0</td>\n",
       "      <td>9.5</td>\n",
       "      <td>1000.0</td>\n",
       "      <td>Free</td>\n",
       "      <td>0.0</td>\n",
       "      <td>Everyone</td>\n",
       "      <td>Medical</td>\n",
       "      <td>2017-01-20</td>\n",
       "      <td>1.0 and up</td>\n",
       "      <td>2.0 and up</td>\n",
       "    </tr>\n",
       "    <tr>\n",
       "      <th>10839</th>\n",
       "      <td>The SCP Foundation DB fr nn5n</td>\n",
       "      <td>BOOKS_AND_REFERENCE</td>\n",
       "      <td>4.5</td>\n",
       "      <td>114.0</td>\n",
       "      <td>Varies with device</td>\n",
       "      <td>1000.0</td>\n",
       "      <td>Free</td>\n",
       "      <td>0.0</td>\n",
       "      <td>Mature 17+</td>\n",
       "      <td>Books &amp; Reference</td>\n",
       "      <td>2015-01-19</td>\n",
       "      <td>Varies with device</td>\n",
       "      <td>Varies with device</td>\n",
       "    </tr>\n",
       "    <tr>\n",
       "      <th>10840</th>\n",
       "      <td>iHoroscope - 2018 Daily Horoscope &amp; Astrology</td>\n",
       "      <td>LIFESTYLE</td>\n",
       "      <td>4.5</td>\n",
       "      <td>398307.0</td>\n",
       "      <td>19.0</td>\n",
       "      <td>10000000.0</td>\n",
       "      <td>Free</td>\n",
       "      <td>0.0</td>\n",
       "      <td>Everyone</td>\n",
       "      <td>Lifestyle</td>\n",
       "      <td>2018-07-25</td>\n",
       "      <td>Varies with device</td>\n",
       "      <td>Varies with device</td>\n",
       "    </tr>\n",
       "  </tbody>\n",
       "</table>\n",
       "<p>9918 rows × 13 columns</p>\n",
       "</div>"
      ],
      "text/plain": [
       "                                                     App             Category  \\\n",
       "0         Photo Editor & Candy Camera & Grid & ScrapBook       ART_AND_DESIGN   \n",
       "1                                    Coloring book moana       ART_AND_DESIGN   \n",
       "2      U Launcher Lite – FREE Live Cool Themes, Hide ...       ART_AND_DESIGN   \n",
       "3                                  Sketch - Draw & Paint       ART_AND_DESIGN   \n",
       "4                  Pixel Draw - Number Art Coloring Book       ART_AND_DESIGN   \n",
       "...                                                  ...                  ...   \n",
       "10836                                   Sya9a Maroc - FR               FAMILY   \n",
       "10837                   Fr. Mike Schmitz Audio Teachings               FAMILY   \n",
       "10838                             Parkinson Exercices FR              MEDICAL   \n",
       "10839                      The SCP Foundation DB fr nn5n  BOOKS_AND_REFERENCE   \n",
       "10840      iHoroscope - 2018 Daily Horoscope & Astrology            LIFESTYLE   \n",
       "\n",
       "       Rating   Reviews                Size    Installs  Type  Price  \\\n",
       "0         4.1     159.0                19.0     10000.0  Free    0.0   \n",
       "1         3.9     967.0                14.0    500000.0  Free    0.0   \n",
       "2         4.7   87510.0                 8.7   5000000.0  Free    0.0   \n",
       "3         4.5  215644.0                25.0  50000000.0  Free    0.0   \n",
       "4         4.3     967.0                 2.8    100000.0  Free    0.0   \n",
       "...       ...       ...                 ...         ...   ...    ...   \n",
       "10836     4.5      38.0                53.0      5000.0  Free    0.0   \n",
       "10837     5.0       4.0                 3.6       100.0  Free    0.0   \n",
       "10838     NaN       3.0                 9.5      1000.0  Free    0.0   \n",
       "10839     4.5     114.0  Varies with device      1000.0  Free    0.0   \n",
       "10840     4.5  398307.0                19.0  10000000.0  Free    0.0   \n",
       "\n",
       "      Content Rating                     Genres Last Updated  \\\n",
       "0           Everyone               Art & Design   2018-07-01   \n",
       "1           Everyone  Art & Design;Pretend Play   2018-01-15   \n",
       "2           Everyone               Art & Design   2018-01-08   \n",
       "3               Teen               Art & Design   2018-08-06   \n",
       "4           Everyone    Art & Design;Creativity   2018-06-20   \n",
       "...              ...                        ...          ...   \n",
       "10836       Everyone                  Education   2017-07-25   \n",
       "10837       Everyone                  Education   2018-06-07   \n",
       "10838       Everyone                    Medical   2017-01-20   \n",
       "10839     Mature 17+          Books & Reference   2015-01-19   \n",
       "10840       Everyone                  Lifestyle   2018-07-25   \n",
       "\n",
       "              Current Ver         Android Ver  \n",
       "0              1.0 and up          4.0 and up  \n",
       "1              2.0 and up          4.0 and up  \n",
       "2              1.0 and up          4.0 and up  \n",
       "3      Varies with device          4.0 and up  \n",
       "4              1.0 and up          4.0 and up  \n",
       "...                   ...                 ...  \n",
       "10836          1.0 and up          4.0 and up  \n",
       "10837          1.0 and up          4.0 and up  \n",
       "10838          1.0 and up          2.0 and up  \n",
       "10839  Varies with device  Varies with device  \n",
       "10840  Varies with device  Varies with device  \n",
       "\n",
       "[9918 rows x 13 columns]"
      ]
     },
     "execution_count": 53,
     "metadata": {},
     "output_type": "execute_result"
    }
   ],
   "source": [
    "data"
   ]
  },
  {
   "cell_type": "code",
   "execution_count": 54,
   "id": "f772148f",
   "metadata": {},
   "outputs": [],
   "source": [
    "cleaned_data=data.reset_index()"
   ]
  },
  {
   "cell_type": "code",
   "execution_count": 55,
   "id": "2d9c18be",
   "metadata": {},
   "outputs": [
    {
     "data": {
      "text/html": [
       "<div>\n",
       "<style scoped>\n",
       "    .dataframe tbody tr th:only-of-type {\n",
       "        vertical-align: middle;\n",
       "    }\n",
       "\n",
       "    .dataframe tbody tr th {\n",
       "        vertical-align: top;\n",
       "    }\n",
       "\n",
       "    .dataframe thead th {\n",
       "        text-align: right;\n",
       "    }\n",
       "</style>\n",
       "<table border=\"1\" class=\"dataframe\">\n",
       "  <thead>\n",
       "    <tr style=\"text-align: right;\">\n",
       "      <th></th>\n",
       "      <th>index</th>\n",
       "      <th>App</th>\n",
       "      <th>Category</th>\n",
       "      <th>Rating</th>\n",
       "      <th>Reviews</th>\n",
       "      <th>Size</th>\n",
       "      <th>Installs</th>\n",
       "      <th>Type</th>\n",
       "      <th>Price</th>\n",
       "      <th>Content Rating</th>\n",
       "      <th>Genres</th>\n",
       "      <th>Last Updated</th>\n",
       "      <th>Current Ver</th>\n",
       "      <th>Android Ver</th>\n",
       "    </tr>\n",
       "  </thead>\n",
       "  <tbody>\n",
       "    <tr>\n",
       "      <th>0</th>\n",
       "      <td>0</td>\n",
       "      <td>Photo Editor &amp; Candy Camera &amp; Grid &amp; ScrapBook</td>\n",
       "      <td>ART_AND_DESIGN</td>\n",
       "      <td>4.1</td>\n",
       "      <td>159.0</td>\n",
       "      <td>19.0</td>\n",
       "      <td>10000.0</td>\n",
       "      <td>Free</td>\n",
       "      <td>0.0</td>\n",
       "      <td>Everyone</td>\n",
       "      <td>Art &amp; Design</td>\n",
       "      <td>2018-07-01</td>\n",
       "      <td>1.0 and up</td>\n",
       "      <td>4.0 and up</td>\n",
       "    </tr>\n",
       "    <tr>\n",
       "      <th>1</th>\n",
       "      <td>1</td>\n",
       "      <td>Coloring book moana</td>\n",
       "      <td>ART_AND_DESIGN</td>\n",
       "      <td>3.9</td>\n",
       "      <td>967.0</td>\n",
       "      <td>14.0</td>\n",
       "      <td>500000.0</td>\n",
       "      <td>Free</td>\n",
       "      <td>0.0</td>\n",
       "      <td>Everyone</td>\n",
       "      <td>Art &amp; Design;Pretend Play</td>\n",
       "      <td>2018-01-15</td>\n",
       "      <td>2.0 and up</td>\n",
       "      <td>4.0 and up</td>\n",
       "    </tr>\n",
       "    <tr>\n",
       "      <th>2</th>\n",
       "      <td>2</td>\n",
       "      <td>U Launcher Lite – FREE Live Cool Themes, Hide ...</td>\n",
       "      <td>ART_AND_DESIGN</td>\n",
       "      <td>4.7</td>\n",
       "      <td>87510.0</td>\n",
       "      <td>8.7</td>\n",
       "      <td>5000000.0</td>\n",
       "      <td>Free</td>\n",
       "      <td>0.0</td>\n",
       "      <td>Everyone</td>\n",
       "      <td>Art &amp; Design</td>\n",
       "      <td>2018-01-08</td>\n",
       "      <td>1.0 and up</td>\n",
       "      <td>4.0 and up</td>\n",
       "    </tr>\n",
       "    <tr>\n",
       "      <th>3</th>\n",
       "      <td>3</td>\n",
       "      <td>Sketch - Draw &amp; Paint</td>\n",
       "      <td>ART_AND_DESIGN</td>\n",
       "      <td>4.5</td>\n",
       "      <td>215644.0</td>\n",
       "      <td>25.0</td>\n",
       "      <td>50000000.0</td>\n",
       "      <td>Free</td>\n",
       "      <td>0.0</td>\n",
       "      <td>Teen</td>\n",
       "      <td>Art &amp; Design</td>\n",
       "      <td>2018-08-06</td>\n",
       "      <td>Varies with device</td>\n",
       "      <td>4.0 and up</td>\n",
       "    </tr>\n",
       "    <tr>\n",
       "      <th>4</th>\n",
       "      <td>4</td>\n",
       "      <td>Pixel Draw - Number Art Coloring Book</td>\n",
       "      <td>ART_AND_DESIGN</td>\n",
       "      <td>4.3</td>\n",
       "      <td>967.0</td>\n",
       "      <td>2.8</td>\n",
       "      <td>100000.0</td>\n",
       "      <td>Free</td>\n",
       "      <td>0.0</td>\n",
       "      <td>Everyone</td>\n",
       "      <td>Art &amp; Design;Creativity</td>\n",
       "      <td>2018-06-20</td>\n",
       "      <td>1.0 and up</td>\n",
       "      <td>4.0 and up</td>\n",
       "    </tr>\n",
       "    <tr>\n",
       "      <th>...</th>\n",
       "      <td>...</td>\n",
       "      <td>...</td>\n",
       "      <td>...</td>\n",
       "      <td>...</td>\n",
       "      <td>...</td>\n",
       "      <td>...</td>\n",
       "      <td>...</td>\n",
       "      <td>...</td>\n",
       "      <td>...</td>\n",
       "      <td>...</td>\n",
       "      <td>...</td>\n",
       "      <td>...</td>\n",
       "      <td>...</td>\n",
       "      <td>...</td>\n",
       "    </tr>\n",
       "    <tr>\n",
       "      <th>9913</th>\n",
       "      <td>10836</td>\n",
       "      <td>Sya9a Maroc - FR</td>\n",
       "      <td>FAMILY</td>\n",
       "      <td>4.5</td>\n",
       "      <td>38.0</td>\n",
       "      <td>53.0</td>\n",
       "      <td>5000.0</td>\n",
       "      <td>Free</td>\n",
       "      <td>0.0</td>\n",
       "      <td>Everyone</td>\n",
       "      <td>Education</td>\n",
       "      <td>2017-07-25</td>\n",
       "      <td>1.0 and up</td>\n",
       "      <td>4.0 and up</td>\n",
       "    </tr>\n",
       "    <tr>\n",
       "      <th>9914</th>\n",
       "      <td>10837</td>\n",
       "      <td>Fr. Mike Schmitz Audio Teachings</td>\n",
       "      <td>FAMILY</td>\n",
       "      <td>5.0</td>\n",
       "      <td>4.0</td>\n",
       "      <td>3.6</td>\n",
       "      <td>100.0</td>\n",
       "      <td>Free</td>\n",
       "      <td>0.0</td>\n",
       "      <td>Everyone</td>\n",
       "      <td>Education</td>\n",
       "      <td>2018-06-07</td>\n",
       "      <td>1.0 and up</td>\n",
       "      <td>4.0 and up</td>\n",
       "    </tr>\n",
       "    <tr>\n",
       "      <th>9915</th>\n",
       "      <td>10838</td>\n",
       "      <td>Parkinson Exercices FR</td>\n",
       "      <td>MEDICAL</td>\n",
       "      <td>NaN</td>\n",
       "      <td>3.0</td>\n",
       "      <td>9.5</td>\n",
       "      <td>1000.0</td>\n",
       "      <td>Free</td>\n",
       "      <td>0.0</td>\n",
       "      <td>Everyone</td>\n",
       "      <td>Medical</td>\n",
       "      <td>2017-01-20</td>\n",
       "      <td>1.0 and up</td>\n",
       "      <td>2.0 and up</td>\n",
       "    </tr>\n",
       "    <tr>\n",
       "      <th>9916</th>\n",
       "      <td>10839</td>\n",
       "      <td>The SCP Foundation DB fr nn5n</td>\n",
       "      <td>BOOKS_AND_REFERENCE</td>\n",
       "      <td>4.5</td>\n",
       "      <td>114.0</td>\n",
       "      <td>Varies with device</td>\n",
       "      <td>1000.0</td>\n",
       "      <td>Free</td>\n",
       "      <td>0.0</td>\n",
       "      <td>Mature 17+</td>\n",
       "      <td>Books &amp; Reference</td>\n",
       "      <td>2015-01-19</td>\n",
       "      <td>Varies with device</td>\n",
       "      <td>Varies with device</td>\n",
       "    </tr>\n",
       "    <tr>\n",
       "      <th>9917</th>\n",
       "      <td>10840</td>\n",
       "      <td>iHoroscope - 2018 Daily Horoscope &amp; Astrology</td>\n",
       "      <td>LIFESTYLE</td>\n",
       "      <td>4.5</td>\n",
       "      <td>398307.0</td>\n",
       "      <td>19.0</td>\n",
       "      <td>10000000.0</td>\n",
       "      <td>Free</td>\n",
       "      <td>0.0</td>\n",
       "      <td>Everyone</td>\n",
       "      <td>Lifestyle</td>\n",
       "      <td>2018-07-25</td>\n",
       "      <td>Varies with device</td>\n",
       "      <td>Varies with device</td>\n",
       "    </tr>\n",
       "  </tbody>\n",
       "</table>\n",
       "<p>9918 rows × 14 columns</p>\n",
       "</div>"
      ],
      "text/plain": [
       "      index                                                App  \\\n",
       "0         0     Photo Editor & Candy Camera & Grid & ScrapBook   \n",
       "1         1                                Coloring book moana   \n",
       "2         2  U Launcher Lite – FREE Live Cool Themes, Hide ...   \n",
       "3         3                              Sketch - Draw & Paint   \n",
       "4         4              Pixel Draw - Number Art Coloring Book   \n",
       "...     ...                                                ...   \n",
       "9913  10836                                   Sya9a Maroc - FR   \n",
       "9914  10837                   Fr. Mike Schmitz Audio Teachings   \n",
       "9915  10838                             Parkinson Exercices FR   \n",
       "9916  10839                      The SCP Foundation DB fr nn5n   \n",
       "9917  10840      iHoroscope - 2018 Daily Horoscope & Astrology   \n",
       "\n",
       "                 Category  Rating   Reviews                Size    Installs  \\\n",
       "0          ART_AND_DESIGN     4.1     159.0                19.0     10000.0   \n",
       "1          ART_AND_DESIGN     3.9     967.0                14.0    500000.0   \n",
       "2          ART_AND_DESIGN     4.7   87510.0                 8.7   5000000.0   \n",
       "3          ART_AND_DESIGN     4.5  215644.0                25.0  50000000.0   \n",
       "4          ART_AND_DESIGN     4.3     967.0                 2.8    100000.0   \n",
       "...                   ...     ...       ...                 ...         ...   \n",
       "9913               FAMILY     4.5      38.0                53.0      5000.0   \n",
       "9914               FAMILY     5.0       4.0                 3.6       100.0   \n",
       "9915              MEDICAL     NaN       3.0                 9.5      1000.0   \n",
       "9916  BOOKS_AND_REFERENCE     4.5     114.0  Varies with device      1000.0   \n",
       "9917            LIFESTYLE     4.5  398307.0                19.0  10000000.0   \n",
       "\n",
       "      Type  Price Content Rating                     Genres Last Updated  \\\n",
       "0     Free    0.0       Everyone               Art & Design   2018-07-01   \n",
       "1     Free    0.0       Everyone  Art & Design;Pretend Play   2018-01-15   \n",
       "2     Free    0.0       Everyone               Art & Design   2018-01-08   \n",
       "3     Free    0.0           Teen               Art & Design   2018-08-06   \n",
       "4     Free    0.0       Everyone    Art & Design;Creativity   2018-06-20   \n",
       "...    ...    ...            ...                        ...          ...   \n",
       "9913  Free    0.0       Everyone                  Education   2017-07-25   \n",
       "9914  Free    0.0       Everyone                  Education   2018-06-07   \n",
       "9915  Free    0.0       Everyone                    Medical   2017-01-20   \n",
       "9916  Free    0.0     Mature 17+          Books & Reference   2015-01-19   \n",
       "9917  Free    0.0       Everyone                  Lifestyle   2018-07-25   \n",
       "\n",
       "             Current Ver         Android Ver  \n",
       "0             1.0 and up          4.0 and up  \n",
       "1             2.0 and up          4.0 and up  \n",
       "2             1.0 and up          4.0 and up  \n",
       "3     Varies with device          4.0 and up  \n",
       "4             1.0 and up          4.0 and up  \n",
       "...                  ...                 ...  \n",
       "9913          1.0 and up          4.0 and up  \n",
       "9914          1.0 and up          4.0 and up  \n",
       "9915          1.0 and up          2.0 and up  \n",
       "9916  Varies with device  Varies with device  \n",
       "9917  Varies with device  Varies with device  \n",
       "\n",
       "[9918 rows x 14 columns]"
      ]
     },
     "execution_count": 55,
     "metadata": {},
     "output_type": "execute_result"
    }
   ],
   "source": [
    "cleaned_data"
   ]
  },
  {
   "cell_type": "code",
   "execution_count": 56,
   "id": "c87e74fd",
   "metadata": {},
   "outputs": [],
   "source": [
    "cleaned_data.drop('index',axis=1,inplace=True)"
   ]
  },
  {
   "cell_type": "code",
   "execution_count": 57,
   "id": "0c6fd22d",
   "metadata": {},
   "outputs": [
    {
     "data": {
      "text/html": [
       "<div>\n",
       "<style scoped>\n",
       "    .dataframe tbody tr th:only-of-type {\n",
       "        vertical-align: middle;\n",
       "    }\n",
       "\n",
       "    .dataframe tbody tr th {\n",
       "        vertical-align: top;\n",
       "    }\n",
       "\n",
       "    .dataframe thead th {\n",
       "        text-align: right;\n",
       "    }\n",
       "</style>\n",
       "<table border=\"1\" class=\"dataframe\">\n",
       "  <thead>\n",
       "    <tr style=\"text-align: right;\">\n",
       "      <th></th>\n",
       "      <th>App</th>\n",
       "      <th>Category</th>\n",
       "      <th>Rating</th>\n",
       "      <th>Reviews</th>\n",
       "      <th>Size</th>\n",
       "      <th>Installs</th>\n",
       "      <th>Type</th>\n",
       "      <th>Price</th>\n",
       "      <th>Content Rating</th>\n",
       "      <th>Genres</th>\n",
       "      <th>Last Updated</th>\n",
       "      <th>Current Ver</th>\n",
       "      <th>Android Ver</th>\n",
       "    </tr>\n",
       "  </thead>\n",
       "  <tbody>\n",
       "    <tr>\n",
       "      <th>0</th>\n",
       "      <td>Photo Editor &amp; Candy Camera &amp; Grid &amp; ScrapBook</td>\n",
       "      <td>ART_AND_DESIGN</td>\n",
       "      <td>4.1</td>\n",
       "      <td>159.0</td>\n",
       "      <td>19.0</td>\n",
       "      <td>10000.0</td>\n",
       "      <td>Free</td>\n",
       "      <td>0.0</td>\n",
       "      <td>Everyone</td>\n",
       "      <td>Art &amp; Design</td>\n",
       "      <td>2018-07-01</td>\n",
       "      <td>1.0 and up</td>\n",
       "      <td>4.0 and up</td>\n",
       "    </tr>\n",
       "    <tr>\n",
       "      <th>1</th>\n",
       "      <td>Coloring book moana</td>\n",
       "      <td>ART_AND_DESIGN</td>\n",
       "      <td>3.9</td>\n",
       "      <td>967.0</td>\n",
       "      <td>14.0</td>\n",
       "      <td>500000.0</td>\n",
       "      <td>Free</td>\n",
       "      <td>0.0</td>\n",
       "      <td>Everyone</td>\n",
       "      <td>Art &amp; Design;Pretend Play</td>\n",
       "      <td>2018-01-15</td>\n",
       "      <td>2.0 and up</td>\n",
       "      <td>4.0 and up</td>\n",
       "    </tr>\n",
       "    <tr>\n",
       "      <th>2</th>\n",
       "      <td>U Launcher Lite – FREE Live Cool Themes, Hide ...</td>\n",
       "      <td>ART_AND_DESIGN</td>\n",
       "      <td>4.7</td>\n",
       "      <td>87510.0</td>\n",
       "      <td>8.7</td>\n",
       "      <td>5000000.0</td>\n",
       "      <td>Free</td>\n",
       "      <td>0.0</td>\n",
       "      <td>Everyone</td>\n",
       "      <td>Art &amp; Design</td>\n",
       "      <td>2018-01-08</td>\n",
       "      <td>1.0 and up</td>\n",
       "      <td>4.0 and up</td>\n",
       "    </tr>\n",
       "    <tr>\n",
       "      <th>3</th>\n",
       "      <td>Sketch - Draw &amp; Paint</td>\n",
       "      <td>ART_AND_DESIGN</td>\n",
       "      <td>4.5</td>\n",
       "      <td>215644.0</td>\n",
       "      <td>25.0</td>\n",
       "      <td>50000000.0</td>\n",
       "      <td>Free</td>\n",
       "      <td>0.0</td>\n",
       "      <td>Teen</td>\n",
       "      <td>Art &amp; Design</td>\n",
       "      <td>2018-08-06</td>\n",
       "      <td>Varies with device</td>\n",
       "      <td>4.0 and up</td>\n",
       "    </tr>\n",
       "    <tr>\n",
       "      <th>4</th>\n",
       "      <td>Pixel Draw - Number Art Coloring Book</td>\n",
       "      <td>ART_AND_DESIGN</td>\n",
       "      <td>4.3</td>\n",
       "      <td>967.0</td>\n",
       "      <td>2.8</td>\n",
       "      <td>100000.0</td>\n",
       "      <td>Free</td>\n",
       "      <td>0.0</td>\n",
       "      <td>Everyone</td>\n",
       "      <td>Art &amp; Design;Creativity</td>\n",
       "      <td>2018-06-20</td>\n",
       "      <td>1.0 and up</td>\n",
       "      <td>4.0 and up</td>\n",
       "    </tr>\n",
       "    <tr>\n",
       "      <th>...</th>\n",
       "      <td>...</td>\n",
       "      <td>...</td>\n",
       "      <td>...</td>\n",
       "      <td>...</td>\n",
       "      <td>...</td>\n",
       "      <td>...</td>\n",
       "      <td>...</td>\n",
       "      <td>...</td>\n",
       "      <td>...</td>\n",
       "      <td>...</td>\n",
       "      <td>...</td>\n",
       "      <td>...</td>\n",
       "      <td>...</td>\n",
       "    </tr>\n",
       "    <tr>\n",
       "      <th>9913</th>\n",
       "      <td>Sya9a Maroc - FR</td>\n",
       "      <td>FAMILY</td>\n",
       "      <td>4.5</td>\n",
       "      <td>38.0</td>\n",
       "      <td>53.0</td>\n",
       "      <td>5000.0</td>\n",
       "      <td>Free</td>\n",
       "      <td>0.0</td>\n",
       "      <td>Everyone</td>\n",
       "      <td>Education</td>\n",
       "      <td>2017-07-25</td>\n",
       "      <td>1.0 and up</td>\n",
       "      <td>4.0 and up</td>\n",
       "    </tr>\n",
       "    <tr>\n",
       "      <th>9914</th>\n",
       "      <td>Fr. Mike Schmitz Audio Teachings</td>\n",
       "      <td>FAMILY</td>\n",
       "      <td>5.0</td>\n",
       "      <td>4.0</td>\n",
       "      <td>3.6</td>\n",
       "      <td>100.0</td>\n",
       "      <td>Free</td>\n",
       "      <td>0.0</td>\n",
       "      <td>Everyone</td>\n",
       "      <td>Education</td>\n",
       "      <td>2018-06-07</td>\n",
       "      <td>1.0 and up</td>\n",
       "      <td>4.0 and up</td>\n",
       "    </tr>\n",
       "    <tr>\n",
       "      <th>9915</th>\n",
       "      <td>Parkinson Exercices FR</td>\n",
       "      <td>MEDICAL</td>\n",
       "      <td>NaN</td>\n",
       "      <td>3.0</td>\n",
       "      <td>9.5</td>\n",
       "      <td>1000.0</td>\n",
       "      <td>Free</td>\n",
       "      <td>0.0</td>\n",
       "      <td>Everyone</td>\n",
       "      <td>Medical</td>\n",
       "      <td>2017-01-20</td>\n",
       "      <td>1.0 and up</td>\n",
       "      <td>2.0 and up</td>\n",
       "    </tr>\n",
       "    <tr>\n",
       "      <th>9916</th>\n",
       "      <td>The SCP Foundation DB fr nn5n</td>\n",
       "      <td>BOOKS_AND_REFERENCE</td>\n",
       "      <td>4.5</td>\n",
       "      <td>114.0</td>\n",
       "      <td>Varies with device</td>\n",
       "      <td>1000.0</td>\n",
       "      <td>Free</td>\n",
       "      <td>0.0</td>\n",
       "      <td>Mature 17+</td>\n",
       "      <td>Books &amp; Reference</td>\n",
       "      <td>2015-01-19</td>\n",
       "      <td>Varies with device</td>\n",
       "      <td>Varies with device</td>\n",
       "    </tr>\n",
       "    <tr>\n",
       "      <th>9917</th>\n",
       "      <td>iHoroscope - 2018 Daily Horoscope &amp; Astrology</td>\n",
       "      <td>LIFESTYLE</td>\n",
       "      <td>4.5</td>\n",
       "      <td>398307.0</td>\n",
       "      <td>19.0</td>\n",
       "      <td>10000000.0</td>\n",
       "      <td>Free</td>\n",
       "      <td>0.0</td>\n",
       "      <td>Everyone</td>\n",
       "      <td>Lifestyle</td>\n",
       "      <td>2018-07-25</td>\n",
       "      <td>Varies with device</td>\n",
       "      <td>Varies with device</td>\n",
       "    </tr>\n",
       "  </tbody>\n",
       "</table>\n",
       "<p>9918 rows × 13 columns</p>\n",
       "</div>"
      ],
      "text/plain": [
       "                                                    App             Category  \\\n",
       "0        Photo Editor & Candy Camera & Grid & ScrapBook       ART_AND_DESIGN   \n",
       "1                                   Coloring book moana       ART_AND_DESIGN   \n",
       "2     U Launcher Lite – FREE Live Cool Themes, Hide ...       ART_AND_DESIGN   \n",
       "3                                 Sketch - Draw & Paint       ART_AND_DESIGN   \n",
       "4                 Pixel Draw - Number Art Coloring Book       ART_AND_DESIGN   \n",
       "...                                                 ...                  ...   \n",
       "9913                                   Sya9a Maroc - FR               FAMILY   \n",
       "9914                   Fr. Mike Schmitz Audio Teachings               FAMILY   \n",
       "9915                             Parkinson Exercices FR              MEDICAL   \n",
       "9916                      The SCP Foundation DB fr nn5n  BOOKS_AND_REFERENCE   \n",
       "9917      iHoroscope - 2018 Daily Horoscope & Astrology            LIFESTYLE   \n",
       "\n",
       "      Rating   Reviews                Size    Installs  Type  Price  \\\n",
       "0        4.1     159.0                19.0     10000.0  Free    0.0   \n",
       "1        3.9     967.0                14.0    500000.0  Free    0.0   \n",
       "2        4.7   87510.0                 8.7   5000000.0  Free    0.0   \n",
       "3        4.5  215644.0                25.0  50000000.0  Free    0.0   \n",
       "4        4.3     967.0                 2.8    100000.0  Free    0.0   \n",
       "...      ...       ...                 ...         ...   ...    ...   \n",
       "9913     4.5      38.0                53.0      5000.0  Free    0.0   \n",
       "9914     5.0       4.0                 3.6       100.0  Free    0.0   \n",
       "9915     NaN       3.0                 9.5      1000.0  Free    0.0   \n",
       "9916     4.5     114.0  Varies with device      1000.0  Free    0.0   \n",
       "9917     4.5  398307.0                19.0  10000000.0  Free    0.0   \n",
       "\n",
       "     Content Rating                     Genres Last Updated  \\\n",
       "0          Everyone               Art & Design   2018-07-01   \n",
       "1          Everyone  Art & Design;Pretend Play   2018-01-15   \n",
       "2          Everyone               Art & Design   2018-01-08   \n",
       "3              Teen               Art & Design   2018-08-06   \n",
       "4          Everyone    Art & Design;Creativity   2018-06-20   \n",
       "...             ...                        ...          ...   \n",
       "9913       Everyone                  Education   2017-07-25   \n",
       "9914       Everyone                  Education   2018-06-07   \n",
       "9915       Everyone                    Medical   2017-01-20   \n",
       "9916     Mature 17+          Books & Reference   2015-01-19   \n",
       "9917       Everyone                  Lifestyle   2018-07-25   \n",
       "\n",
       "             Current Ver         Android Ver  \n",
       "0             1.0 and up          4.0 and up  \n",
       "1             2.0 and up          4.0 and up  \n",
       "2             1.0 and up          4.0 and up  \n",
       "3     Varies with device          4.0 and up  \n",
       "4             1.0 and up          4.0 and up  \n",
       "...                  ...                 ...  \n",
       "9913          1.0 and up          4.0 and up  \n",
       "9914          1.0 and up          4.0 and up  \n",
       "9915          1.0 and up          2.0 and up  \n",
       "9916  Varies with device  Varies with device  \n",
       "9917  Varies with device  Varies with device  \n",
       "\n",
       "[9918 rows x 13 columns]"
      ]
     },
     "execution_count": 57,
     "metadata": {},
     "output_type": "execute_result"
    }
   ],
   "source": [
    "cleaned_data"
   ]
  },
  {
   "cell_type": "code",
   "execution_count": null,
   "id": "a85fd7b6",
   "metadata": {},
   "outputs": [],
   "source": []
  },
  {
   "cell_type": "code",
   "execution_count": 60,
   "id": "b3bd685c",
   "metadata": {},
   "outputs": [
    {
     "data": {
      "text/plain": [
       "App                  0\n",
       "Category             0\n",
       "Rating            1448\n",
       "Reviews              0\n",
       "Size                 0\n",
       "Installs             0\n",
       "Type                 1\n",
       "Price                0\n",
       "Content Rating       0\n",
       "Genres               0\n",
       "Last Updated         0\n",
       "Current Ver          8\n",
       "Android Ver          2\n",
       "dtype: int64"
      ]
     },
     "execution_count": 60,
     "metadata": {},
     "output_type": "execute_result"
    }
   ],
   "source": [
    "# Still contains null ,need to be treated in \"EXCEL\".\n",
    "cleaned_data.isnull().sum()"
   ]
  },
  {
   "cell_type": "code",
   "execution_count": 58,
   "id": "09642c4d",
   "metadata": {},
   "outputs": [],
   "source": [
    "# Converted to CSV"
   ]
  },
  {
   "cell_type": "code",
   "execution_count": 59,
   "id": "d20587d6",
   "metadata": {},
   "outputs": [],
   "source": [
    "# cleaned_data.to_csv('Cleaned_file.csv')"
   ]
  },
  {
   "cell_type": "code",
   "execution_count": 62,
   "id": "b67797b7",
   "metadata": {},
   "outputs": [
    {
     "data": {
      "text/html": [
       "<div>\n",
       "<style scoped>\n",
       "    .dataframe tbody tr th:only-of-type {\n",
       "        vertical-align: middle;\n",
       "    }\n",
       "\n",
       "    .dataframe tbody tr th {\n",
       "        vertical-align: top;\n",
       "    }\n",
       "\n",
       "    .dataframe thead th {\n",
       "        text-align: right;\n",
       "    }\n",
       "</style>\n",
       "<table border=\"1\" class=\"dataframe\">\n",
       "  <thead>\n",
       "    <tr style=\"text-align: right;\">\n",
       "      <th></th>\n",
       "      <th>App</th>\n",
       "      <th>Category</th>\n",
       "      <th>Rating</th>\n",
       "      <th>Reviews</th>\n",
       "      <th>Size</th>\n",
       "      <th>Installs</th>\n",
       "      <th>Type</th>\n",
       "      <th>Price</th>\n",
       "      <th>Content Rating</th>\n",
       "      <th>Genres</th>\n",
       "      <th>Last Updated</th>\n",
       "      <th>Current Ver</th>\n",
       "      <th>Android Ver</th>\n",
       "    </tr>\n",
       "  </thead>\n",
       "  <tbody>\n",
       "    <tr>\n",
       "      <th>266</th>\n",
       "      <td>Hojiboy Tojiboyev Life Hacks</td>\n",
       "      <td>COMICS</td>\n",
       "      <td>5.0</td>\n",
       "      <td>15.0</td>\n",
       "      <td>37.0</td>\n",
       "      <td>1000.0</td>\n",
       "      <td>Free</td>\n",
       "      <td>0.0</td>\n",
       "      <td>Everyone</td>\n",
       "      <td>Comics</td>\n",
       "      <td>2018-06-26</td>\n",
       "      <td>2.0 and up</td>\n",
       "      <td>4.0 and up</td>\n",
       "    </tr>\n",
       "    <tr>\n",
       "      <th>461</th>\n",
       "      <td>American Girls Mobile Numbers</td>\n",
       "      <td>DATING</td>\n",
       "      <td>5.0</td>\n",
       "      <td>5.0</td>\n",
       "      <td>4.4</td>\n",
       "      <td>1000.0</td>\n",
       "      <td>Free</td>\n",
       "      <td>0.0</td>\n",
       "      <td>Mature 17+</td>\n",
       "      <td>Dating</td>\n",
       "      <td>2018-07-17</td>\n",
       "      <td>3.0 and up</td>\n",
       "      <td>4.0 and up</td>\n",
       "    </tr>\n",
       "    <tr>\n",
       "      <th>463</th>\n",
       "      <td>Awake Dating</td>\n",
       "      <td>DATING</td>\n",
       "      <td>5.0</td>\n",
       "      <td>2.0</td>\n",
       "      <td>70.0</td>\n",
       "      <td>100.0</td>\n",
       "      <td>Free</td>\n",
       "      <td>0.0</td>\n",
       "      <td>Mature 17+</td>\n",
       "      <td>Dating</td>\n",
       "      <td>2018-07-24</td>\n",
       "      <td>2.0 and up</td>\n",
       "      <td>4.0 and up</td>\n",
       "    </tr>\n",
       "    <tr>\n",
       "      <th>481</th>\n",
       "      <td>Spine- The dating app</td>\n",
       "      <td>DATING</td>\n",
       "      <td>5.0</td>\n",
       "      <td>5.0</td>\n",
       "      <td>9.3</td>\n",
       "      <td>500.0</td>\n",
       "      <td>Free</td>\n",
       "      <td>0.0</td>\n",
       "      <td>Teen</td>\n",
       "      <td>Dating</td>\n",
       "      <td>2018-07-14</td>\n",
       "      <td>4.0 and up</td>\n",
       "      <td>4.0 and up</td>\n",
       "    </tr>\n",
       "    <tr>\n",
       "      <th>484</th>\n",
       "      <td>Girls Live Talk - Free Text and Video Chat</td>\n",
       "      <td>DATING</td>\n",
       "      <td>5.0</td>\n",
       "      <td>6.0</td>\n",
       "      <td>5.0</td>\n",
       "      <td>100.0</td>\n",
       "      <td>Free</td>\n",
       "      <td>0.0</td>\n",
       "      <td>Mature 17+</td>\n",
       "      <td>Dating</td>\n",
       "      <td>2018-01-08</td>\n",
       "      <td>8.0 and up</td>\n",
       "      <td>4.0 and up</td>\n",
       "    </tr>\n",
       "    <tr>\n",
       "      <th>...</th>\n",
       "      <td>...</td>\n",
       "      <td>...</td>\n",
       "      <td>...</td>\n",
       "      <td>...</td>\n",
       "      <td>...</td>\n",
       "      <td>...</td>\n",
       "      <td>...</td>\n",
       "      <td>...</td>\n",
       "      <td>...</td>\n",
       "      <td>...</td>\n",
       "      <td>...</td>\n",
       "      <td>...</td>\n",
       "      <td>...</td>\n",
       "    </tr>\n",
       "    <tr>\n",
       "      <th>9799</th>\n",
       "      <td>Mad Dash Fo' Cash</td>\n",
       "      <td>GAME</td>\n",
       "      <td>5.0</td>\n",
       "      <td>14.0</td>\n",
       "      <td>16.0</td>\n",
       "      <td>100.0</td>\n",
       "      <td>Free</td>\n",
       "      <td>0.0</td>\n",
       "      <td>Everyone</td>\n",
       "      <td>Arcade</td>\n",
       "      <td>2017-06-19</td>\n",
       "      <td>2.0 and up</td>\n",
       "      <td>4.0 and up</td>\n",
       "    </tr>\n",
       "    <tr>\n",
       "      <th>9820</th>\n",
       "      <td>GKPB FP Online Church</td>\n",
       "      <td>LIFESTYLE</td>\n",
       "      <td>5.0</td>\n",
       "      <td>32.0</td>\n",
       "      <td>7.9</td>\n",
       "      <td>1000.0</td>\n",
       "      <td>Free</td>\n",
       "      <td>0.0</td>\n",
       "      <td>Everyone</td>\n",
       "      <td>Lifestyle</td>\n",
       "      <td>2017-12-31</td>\n",
       "      <td>0.0 and up</td>\n",
       "      <td>4.0 and up</td>\n",
       "    </tr>\n",
       "    <tr>\n",
       "      <th>9853</th>\n",
       "      <td>Monster Ride Pro</td>\n",
       "      <td>GAME</td>\n",
       "      <td>5.0</td>\n",
       "      <td>1.0</td>\n",
       "      <td>24.0</td>\n",
       "      <td>10.0</td>\n",
       "      <td>Free</td>\n",
       "      <td>0.0</td>\n",
       "      <td>Everyone</td>\n",
       "      <td>Racing</td>\n",
       "      <td>2018-05-03</td>\n",
       "      <td>2.0 and up</td>\n",
       "      <td>2.0 and up</td>\n",
       "    </tr>\n",
       "    <tr>\n",
       "      <th>9897</th>\n",
       "      <td>Fr. Daoud Lamei</td>\n",
       "      <td>FAMILY</td>\n",
       "      <td>5.0</td>\n",
       "      <td>22.0</td>\n",
       "      <td>8.6</td>\n",
       "      <td>1000.0</td>\n",
       "      <td>Free</td>\n",
       "      <td>0.0</td>\n",
       "      <td>Teen</td>\n",
       "      <td>Education</td>\n",
       "      <td>2018-06-27</td>\n",
       "      <td>3.0 and up</td>\n",
       "      <td>4.0 and up</td>\n",
       "    </tr>\n",
       "    <tr>\n",
       "      <th>9914</th>\n",
       "      <td>Fr. Mike Schmitz Audio Teachings</td>\n",
       "      <td>FAMILY</td>\n",
       "      <td>5.0</td>\n",
       "      <td>4.0</td>\n",
       "      <td>3.6</td>\n",
       "      <td>100.0</td>\n",
       "      <td>Free</td>\n",
       "      <td>0.0</td>\n",
       "      <td>Everyone</td>\n",
       "      <td>Education</td>\n",
       "      <td>2018-06-07</td>\n",
       "      <td>1.0 and up</td>\n",
       "      <td>4.0 and up</td>\n",
       "    </tr>\n",
       "  </tbody>\n",
       "</table>\n",
       "<p>268 rows × 13 columns</p>\n",
       "</div>"
      ],
      "text/plain": [
       "                                             App   Category  Rating  Reviews  \\\n",
       "266                 Hojiboy Tojiboyev Life Hacks     COMICS     5.0     15.0   \n",
       "461                American Girls Mobile Numbers     DATING     5.0      5.0   \n",
       "463                                 Awake Dating     DATING     5.0      2.0   \n",
       "481                        Spine- The dating app     DATING     5.0      5.0   \n",
       "484   Girls Live Talk - Free Text and Video Chat     DATING     5.0      6.0   \n",
       "...                                          ...        ...     ...      ...   \n",
       "9799                           Mad Dash Fo' Cash       GAME     5.0     14.0   \n",
       "9820                       GKPB FP Online Church  LIFESTYLE     5.0     32.0   \n",
       "9853                            Monster Ride Pro       GAME     5.0      1.0   \n",
       "9897                             Fr. Daoud Lamei     FAMILY     5.0     22.0   \n",
       "9914            Fr. Mike Schmitz Audio Teachings     FAMILY     5.0      4.0   \n",
       "\n",
       "      Size  Installs  Type  Price Content Rating     Genres Last Updated  \\\n",
       "266   37.0    1000.0  Free    0.0       Everyone     Comics   2018-06-26   \n",
       "461    4.4    1000.0  Free    0.0     Mature 17+     Dating   2018-07-17   \n",
       "463   70.0     100.0  Free    0.0     Mature 17+     Dating   2018-07-24   \n",
       "481    9.3     500.0  Free    0.0           Teen     Dating   2018-07-14   \n",
       "484    5.0     100.0  Free    0.0     Mature 17+     Dating   2018-01-08   \n",
       "...    ...       ...   ...    ...            ...        ...          ...   \n",
       "9799  16.0     100.0  Free    0.0       Everyone     Arcade   2017-06-19   \n",
       "9820   7.9    1000.0  Free    0.0       Everyone  Lifestyle   2017-12-31   \n",
       "9853  24.0      10.0  Free    0.0       Everyone     Racing   2018-05-03   \n",
       "9897   8.6    1000.0  Free    0.0           Teen  Education   2018-06-27   \n",
       "9914   3.6     100.0  Free    0.0       Everyone  Education   2018-06-07   \n",
       "\n",
       "     Current Ver Android Ver  \n",
       "266   2.0 and up  4.0 and up  \n",
       "461   3.0 and up  4.0 and up  \n",
       "463   2.0 and up  4.0 and up  \n",
       "481   4.0 and up  4.0 and up  \n",
       "484   8.0 and up  4.0 and up  \n",
       "...          ...         ...  \n",
       "9799  2.0 and up  4.0 and up  \n",
       "9820  0.0 and up  4.0 and up  \n",
       "9853  2.0 and up  2.0 and up  \n",
       "9897  3.0 and up  4.0 and up  \n",
       "9914  1.0 and up  4.0 and up  \n",
       "\n",
       "[268 rows x 13 columns]"
      ]
     },
     "execution_count": 62,
     "metadata": {},
     "output_type": "execute_result"
    }
   ],
   "source": [
    "cleaned_data[cleaned_data['Rating']==cleaned_data['Rating'].max()]"
   ]
  },
  {
   "cell_type": "code",
   "execution_count": null,
   "id": "50666801",
   "metadata": {},
   "outputs": [],
   "source": []
  }
 ],
 "metadata": {
  "kernelspec": {
   "display_name": "Python 3 (ipykernel)",
   "language": "python",
   "name": "python3"
  },
  "language_info": {
   "codemirror_mode": {
    "name": "ipython",
    "version": 3
   },
   "file_extension": ".py",
   "mimetype": "text/x-python",
   "name": "python",
   "nbconvert_exporter": "python",
   "pygments_lexer": "ipython3",
   "version": "3.9.7"
  }
 },
 "nbformat": 4,
 "nbformat_minor": 5
}
